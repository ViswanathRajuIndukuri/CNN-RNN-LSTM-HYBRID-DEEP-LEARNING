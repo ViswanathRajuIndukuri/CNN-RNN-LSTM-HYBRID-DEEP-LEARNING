{
 "cells": [
  {
   "cell_type": "markdown",
   "id": "833f1428",
   "metadata": {},
   "source": [
    "# Lake Effect Precipitation Prediction using Hybrid CNN & RNN-LSTM Deep Learning Model\n",
    "\n",
    "(2 days in Advance) "
   ]
  },
  {
   "cell_type": "markdown",
   "id": "4bb94b32",
   "metadata": {},
   "source": [
    "**Import necessary libraries**"
   ]
  },
  {
   "cell_type": "code",
   "execution_count": 1,
   "id": "caaafb93",
   "metadata": {},
   "outputs": [],
   "source": [
    "import os\n",
    "import pandas as pd\n",
    "import numpy as np\n",
    "from tqdm import tqdm\n",
    "from datetime import date\n",
    "\n",
    "import pickle\n",
    "import cv2\n",
    "\n",
    "import matplotlib.pyplot as plt\n",
    "import matplotlib.cm as cm\n",
    "import seaborn as sns\n",
    "import warnings\n",
    "warnings.filterwarnings('ignore')\n",
    "\n",
    "%matplotlib inline"
   ]
  },
  {
   "cell_type": "code",
   "execution_count": 2,
   "id": "386fb28e",
   "metadata": {},
   "outputs": [],
   "source": [
    "from sklearn.preprocessing import OneHotEncoder\n",
    "from sklearn.preprocessing import MinMaxScaler\n",
    "from sklearn.metrics import classification_report, confusion_matrix, ConfusionMatrixDisplay"
   ]
  },
  {
   "cell_type": "code",
   "execution_count": 3,
   "id": "53dcb1c2",
   "metadata": {},
   "outputs": [],
   "source": [
    "import tensorflow as tf"
   ]
  },
  {
   "cell_type": "code",
   "execution_count": 4,
   "id": "2dba7c60",
   "metadata": {},
   "outputs": [
    {
     "name": "stdout",
     "output_type": "stream",
     "text": [
      "2.16.1\n"
     ]
    }
   ],
   "source": [
    "print(tf.__version__)"
   ]
  },
  {
   "cell_type": "code",
   "execution_count": 5,
   "id": "2729ecb9",
   "metadata": {},
   "outputs": [],
   "source": [
    "from keras.models import Model\n",
    "from keras.layers import Input, Conv3D, BatchNormalization, MaxPooling3D, Flatten, Dense, LSTM, Concatenate, Dropout\n",
    "from tensorflow.keras.optimizers import Adam\n",
    "from tensorflow.keras.callbacks import EarlyStopping\n",
    "from tensorflow.keras.callbacks import ModelCheckpoint"
   ]
  },
  {
   "cell_type": "markdown",
   "id": "50c65864",
   "metadata": {},
   "source": [
    "## Read `meteorological_data` data"
   ]
  },
  {
   "cell_type": "code",
   "execution_count": 6,
   "id": "8171f4bc",
   "metadata": {},
   "outputs": [
    {
     "data": {
      "text/html": [
       "<div>\n",
       "<style scoped>\n",
       "    .dataframe tbody tr th:only-of-type {\n",
       "        vertical-align: middle;\n",
       "    }\n",
       "\n",
       "    .dataframe tbody tr th {\n",
       "        vertical-align: top;\n",
       "    }\n",
       "\n",
       "    .dataframe thead th {\n",
       "        text-align: right;\n",
       "    }\n",
       "</style>\n",
       "<table border=\"1\" class=\"dataframe\">\n",
       "  <thead>\n",
       "    <tr style=\"text-align: right;\">\n",
       "      <th></th>\n",
       "      <th>DateTime_UTC</th>\n",
       "      <th>Temp_F</th>\n",
       "      <th>RH_pct</th>\n",
       "      <th>Wind_Spd_mph</th>\n",
       "      <th>Wind_Direction_deg</th>\n",
       "      <th>Low_Cloud_Ht_ft</th>\n",
       "      <th>Visibility_mi</th>\n",
       "      <th>Atm_Press_hPa</th>\n",
       "      <th>Precip_in</th>\n",
       "    </tr>\n",
       "  </thead>\n",
       "  <tbody>\n",
       "    <tr>\n",
       "      <th>0</th>\n",
       "      <td>2006-10-01 00:00:00</td>\n",
       "      <td>48.0</td>\n",
       "      <td>86.0</td>\n",
       "      <td>7</td>\n",
       "      <td>150</td>\n",
       "      <td>4100</td>\n",
       "      <td>10</td>\n",
       "      <td>984.0</td>\n",
       "      <td>0.00</td>\n",
       "    </tr>\n",
       "    <tr>\n",
       "      <th>1</th>\n",
       "      <td>2006-10-01 01:00:00</td>\n",
       "      <td>48.0</td>\n",
       "      <td>86.0</td>\n",
       "      <td>8</td>\n",
       "      <td>150</td>\n",
       "      <td>6000</td>\n",
       "      <td>10</td>\n",
       "      <td>983.7</td>\n",
       "      <td>0.00</td>\n",
       "    </tr>\n",
       "    <tr>\n",
       "      <th>2</th>\n",
       "      <td>2006-10-01 02:00:00</td>\n",
       "      <td>48.0</td>\n",
       "      <td>86.0</td>\n",
       "      <td>6</td>\n",
       "      <td>150</td>\n",
       "      <td>5500</td>\n",
       "      <td>10</td>\n",
       "      <td>982.7</td>\n",
       "      <td>0.00</td>\n",
       "    </tr>\n",
       "    <tr>\n",
       "      <th>3</th>\n",
       "      <td>2006-10-01 03:00:00</td>\n",
       "      <td>48.0</td>\n",
       "      <td>86.0</td>\n",
       "      <td>8</td>\n",
       "      <td>150</td>\n",
       "      <td>6000</td>\n",
       "      <td>10</td>\n",
       "      <td>982.0</td>\n",
       "      <td>0.00</td>\n",
       "    </tr>\n",
       "    <tr>\n",
       "      <th>4</th>\n",
       "      <td>2006-10-01 04:00:00</td>\n",
       "      <td>48.0</td>\n",
       "      <td>89.0</td>\n",
       "      <td>5</td>\n",
       "      <td>150</td>\n",
       "      <td>2200</td>\n",
       "      <td>8</td>\n",
       "      <td>982.0</td>\n",
       "      <td>0.02</td>\n",
       "    </tr>\n",
       "    <tr>\n",
       "      <th>...</th>\n",
       "      <td>...</td>\n",
       "      <td>...</td>\n",
       "      <td>...</td>\n",
       "      <td>...</td>\n",
       "      <td>...</td>\n",
       "      <td>...</td>\n",
       "      <td>...</td>\n",
       "      <td>...</td>\n",
       "      <td>...</td>\n",
       "    </tr>\n",
       "    <tr>\n",
       "      <th>48116</th>\n",
       "      <td>2017-03-31 19:00:00</td>\n",
       "      <td>40.0</td>\n",
       "      <td>76.0</td>\n",
       "      <td>0</td>\n",
       "      <td>0</td>\n",
       "      <td>5000</td>\n",
       "      <td>10</td>\n",
       "      <td>991.7</td>\n",
       "      <td>0.00</td>\n",
       "    </tr>\n",
       "    <tr>\n",
       "      <th>48117</th>\n",
       "      <td>2017-03-31 20:00:00</td>\n",
       "      <td>39.0</td>\n",
       "      <td>72.0</td>\n",
       "      <td>3</td>\n",
       "      <td>20</td>\n",
       "      <td>5000</td>\n",
       "      <td>10</td>\n",
       "      <td>992.3</td>\n",
       "      <td>0.00</td>\n",
       "    </tr>\n",
       "    <tr>\n",
       "      <th>48118</th>\n",
       "      <td>2017-03-31 21:00:00</td>\n",
       "      <td>35.0</td>\n",
       "      <td>84.0</td>\n",
       "      <td>5</td>\n",
       "      <td>300</td>\n",
       "      <td>5000</td>\n",
       "      <td>10</td>\n",
       "      <td>993.3</td>\n",
       "      <td>0.00</td>\n",
       "    </tr>\n",
       "    <tr>\n",
       "      <th>48119</th>\n",
       "      <td>2017-03-31 22:00:00</td>\n",
       "      <td>34.0</td>\n",
       "      <td>85.0</td>\n",
       "      <td>0</td>\n",
       "      <td>0</td>\n",
       "      <td>5000</td>\n",
       "      <td>10</td>\n",
       "      <td>993.3</td>\n",
       "      <td>0.00</td>\n",
       "    </tr>\n",
       "    <tr>\n",
       "      <th>48120</th>\n",
       "      <td>2017-03-31 23:00:00</td>\n",
       "      <td>30.0</td>\n",
       "      <td>88.0</td>\n",
       "      <td>0</td>\n",
       "      <td>0</td>\n",
       "      <td>5000</td>\n",
       "      <td>10</td>\n",
       "      <td>993.7</td>\n",
       "      <td>0.00</td>\n",
       "    </tr>\n",
       "  </tbody>\n",
       "</table>\n",
       "<p>48121 rows × 9 columns</p>\n",
       "</div>"
      ],
      "text/plain": [
       "              DateTime_UTC  Temp_F  RH_pct  Wind_Spd_mph  Wind_Direction_deg  \\\n",
       "0      2006-10-01 00:00:00    48.0    86.0             7                 150   \n",
       "1      2006-10-01 01:00:00    48.0    86.0             8                 150   \n",
       "2      2006-10-01 02:00:00    48.0    86.0             6                 150   \n",
       "3      2006-10-01 03:00:00    48.0    86.0             8                 150   \n",
       "4      2006-10-01 04:00:00    48.0    89.0             5                 150   \n",
       "...                    ...     ...     ...           ...                 ...   \n",
       "48116  2017-03-31 19:00:00    40.0    76.0             0                   0   \n",
       "48117  2017-03-31 20:00:00    39.0    72.0             3                  20   \n",
       "48118  2017-03-31 21:00:00    35.0    84.0             5                 300   \n",
       "48119  2017-03-31 22:00:00    34.0    85.0             0                   0   \n",
       "48120  2017-03-31 23:00:00    30.0    88.0             0                   0   \n",
       "\n",
       "       Low_Cloud_Ht_ft  Visibility_mi  Atm_Press_hPa  Precip_in  \n",
       "0                 4100             10          984.0       0.00  \n",
       "1                 6000             10          983.7       0.00  \n",
       "2                 5500             10          982.7       0.00  \n",
       "3                 6000             10          982.0       0.00  \n",
       "4                 2200              8          982.0       0.02  \n",
       "...                ...            ...            ...        ...  \n",
       "48116             5000             10          991.7       0.00  \n",
       "48117             5000             10          992.3       0.00  \n",
       "48118             5000             10          993.3       0.00  \n",
       "48119             5000             10          993.3       0.00  \n",
       "48120             5000             10          993.7       0.00  \n",
       "\n",
       "[48121 rows x 9 columns]"
      ]
     },
     "execution_count": 6,
     "metadata": {},
     "output_type": "execute_result"
    }
   ],
   "source": [
    "meteorological_data_original = pd.read_csv('meteorological_data.csv')\n",
    "\n",
    "meteorological_data_full = meteorological_data_original.copy()\n",
    "meteorological_data_full"
   ]
  },
  {
   "cell_type": "markdown",
   "id": "8327fb3d",
   "metadata": {},
   "source": [
    "**Convert `DateTime_UTC` to Datetime format**"
   ]
  },
  {
   "cell_type": "code",
   "execution_count": 7,
   "id": "121d5453",
   "metadata": {},
   "outputs": [],
   "source": [
    "meteorological_data_full['DateTime_UTC'] = pd.to_datetime(meteorological_data_full['DateTime_UTC'], format='%Y-%m-%d %H:%M:%S')"
   ]
  },
  {
   "cell_type": "markdown",
   "id": "cc850f2a",
   "metadata": {},
   "source": [
    "**Resample Hourly Meteorological Data to Daily Averages and Sums**"
   ]
  },
  {
   "cell_type": "code",
   "execution_count": 8,
   "id": "3bb74c70",
   "metadata": {},
   "outputs": [],
   "source": [
    "# Resample hourly data into daily data\n",
    "daily_data = meteorological_data_full.groupby(meteorological_data_full['DateTime_UTC'].dt.date).agg({\n",
    "   'Temp_F': 'mean',    \n",
    "    'RH_pct': 'mean',    \n",
    "    'Wind_Spd_mph': 'mean',     \n",
    "    'Atm_Press_hPa': 'mean',\n",
    "    'Low_Cloud_Ht_ft': 'mean',\n",
    "    'Visibility_mi': 'mean',    \n",
    "    'Precip_in': 'sum',     \n",
    "}).reset_index()"
   ]
  },
  {
   "cell_type": "code",
   "execution_count": 9,
   "id": "82b078fe",
   "metadata": {},
   "outputs": [
    {
     "data": {
      "text/plain": [
       "DateTime_UTC        object\n",
       "Temp_F             float64\n",
       "RH_pct             float64\n",
       "Wind_Spd_mph       float64\n",
       "Atm_Press_hPa      float64\n",
       "Low_Cloud_Ht_ft    float64\n",
       "Visibility_mi      float64\n",
       "Precip_in          float64\n",
       "dtype: object"
      ]
     },
     "execution_count": 9,
     "metadata": {},
     "output_type": "execute_result"
    }
   ],
   "source": [
    "daily_data.dtypes"
   ]
  },
  {
   "cell_type": "code",
   "execution_count": 10,
   "id": "e05bc570",
   "metadata": {},
   "outputs": [
    {
     "data": {
      "text/html": [
       "<div>\n",
       "<style scoped>\n",
       "    .dataframe tbody tr th:only-of-type {\n",
       "        vertical-align: middle;\n",
       "    }\n",
       "\n",
       "    .dataframe tbody tr th {\n",
       "        vertical-align: top;\n",
       "    }\n",
       "\n",
       "    .dataframe thead th {\n",
       "        text-align: right;\n",
       "    }\n",
       "</style>\n",
       "<table border=\"1\" class=\"dataframe\">\n",
       "  <thead>\n",
       "    <tr style=\"text-align: right;\">\n",
       "      <th></th>\n",
       "      <th>DateTime_UTC</th>\n",
       "      <th>Temp_F</th>\n",
       "      <th>RH_pct</th>\n",
       "      <th>Wind_Spd_mph</th>\n",
       "      <th>Atm_Press_hPa</th>\n",
       "      <th>Low_Cloud_Ht_ft</th>\n",
       "      <th>Visibility_mi</th>\n",
       "      <th>Precip_in</th>\n",
       "    </tr>\n",
       "  </thead>\n",
       "  <tbody>\n",
       "    <tr>\n",
       "      <th>0</th>\n",
       "      <td>2006-10-01</td>\n",
       "      <td>51.500000</td>\n",
       "      <td>74.958333</td>\n",
       "      <td>5.166667</td>\n",
       "      <td>991.275000</td>\n",
       "      <td>4683.333333</td>\n",
       "      <td>9.833333</td>\n",
       "      <td>0.03</td>\n",
       "    </tr>\n",
       "    <tr>\n",
       "      <th>1</th>\n",
       "      <td>2006-10-02</td>\n",
       "      <td>62.750000</td>\n",
       "      <td>73.166667</td>\n",
       "      <td>5.250000</td>\n",
       "      <td>990.054167</td>\n",
       "      <td>3450.000000</td>\n",
       "      <td>9.166667</td>\n",
       "      <td>0.01</td>\n",
       "    </tr>\n",
       "    <tr>\n",
       "      <th>2</th>\n",
       "      <td>2006-10-03</td>\n",
       "      <td>59.875000</td>\n",
       "      <td>81.458333</td>\n",
       "      <td>4.875000</td>\n",
       "      <td>993.491667</td>\n",
       "      <td>3595.833333</td>\n",
       "      <td>7.250000</td>\n",
       "      <td>2.02</td>\n",
       "    </tr>\n",
       "    <tr>\n",
       "      <th>3</th>\n",
       "      <td>2006-10-04</td>\n",
       "      <td>55.625000</td>\n",
       "      <td>72.041667</td>\n",
       "      <td>9.833333</td>\n",
       "      <td>997.937500</td>\n",
       "      <td>1908.333333</td>\n",
       "      <td>9.875000</td>\n",
       "      <td>0.01</td>\n",
       "    </tr>\n",
       "    <tr>\n",
       "      <th>4</th>\n",
       "      <td>2006-10-05</td>\n",
       "      <td>49.208333</td>\n",
       "      <td>75.791667</td>\n",
       "      <td>5.083333</td>\n",
       "      <td>1002.075000</td>\n",
       "      <td>1783.333333</td>\n",
       "      <td>7.833333</td>\n",
       "      <td>0.56</td>\n",
       "    </tr>\n",
       "    <tr>\n",
       "      <th>...</th>\n",
       "      <td>...</td>\n",
       "      <td>...</td>\n",
       "      <td>...</td>\n",
       "      <td>...</td>\n",
       "      <td>...</td>\n",
       "      <td>...</td>\n",
       "      <td>...</td>\n",
       "      <td>...</td>\n",
       "    </tr>\n",
       "    <tr>\n",
       "      <th>2000</th>\n",
       "      <td>2017-03-27</td>\n",
       "      <td>38.250000</td>\n",
       "      <td>88.250000</td>\n",
       "      <td>4.750000</td>\n",
       "      <td>991.920833</td>\n",
       "      <td>808.333333</td>\n",
       "      <td>8.166667</td>\n",
       "      <td>0.03</td>\n",
       "    </tr>\n",
       "    <tr>\n",
       "      <th>2001</th>\n",
       "      <td>2017-03-28</td>\n",
       "      <td>38.833333</td>\n",
       "      <td>86.041667</td>\n",
       "      <td>4.666667</td>\n",
       "      <td>995.729167</td>\n",
       "      <td>7187.500000</td>\n",
       "      <td>6.750000</td>\n",
       "      <td>0.00</td>\n",
       "    </tr>\n",
       "    <tr>\n",
       "      <th>2002</th>\n",
       "      <td>2017-03-29</td>\n",
       "      <td>37.458333</td>\n",
       "      <td>77.708333</td>\n",
       "      <td>4.750000</td>\n",
       "      <td>1000.233333</td>\n",
       "      <td>6237.500000</td>\n",
       "      <td>8.208333</td>\n",
       "      <td>0.00</td>\n",
       "    </tr>\n",
       "    <tr>\n",
       "      <th>2003</th>\n",
       "      <td>2017-03-30</td>\n",
       "      <td>36.291667</td>\n",
       "      <td>78.041667</td>\n",
       "      <td>7.458333</td>\n",
       "      <td>993.387500</td>\n",
       "      <td>2866.666667</td>\n",
       "      <td>8.375000</td>\n",
       "      <td>0.10</td>\n",
       "    </tr>\n",
       "    <tr>\n",
       "      <th>2004</th>\n",
       "      <td>2017-03-31</td>\n",
       "      <td>37.916667</td>\n",
       "      <td>71.875000</td>\n",
       "      <td>7.500000</td>\n",
       "      <td>991.812500</td>\n",
       "      <td>3950.000000</td>\n",
       "      <td>9.750000</td>\n",
       "      <td>0.00</td>\n",
       "    </tr>\n",
       "  </tbody>\n",
       "</table>\n",
       "<p>2005 rows × 8 columns</p>\n",
       "</div>"
      ],
      "text/plain": [
       "     DateTime_UTC     Temp_F     RH_pct  Wind_Spd_mph  Atm_Press_hPa  \\\n",
       "0      2006-10-01  51.500000  74.958333      5.166667     991.275000   \n",
       "1      2006-10-02  62.750000  73.166667      5.250000     990.054167   \n",
       "2      2006-10-03  59.875000  81.458333      4.875000     993.491667   \n",
       "3      2006-10-04  55.625000  72.041667      9.833333     997.937500   \n",
       "4      2006-10-05  49.208333  75.791667      5.083333    1002.075000   \n",
       "...           ...        ...        ...           ...            ...   \n",
       "2000   2017-03-27  38.250000  88.250000      4.750000     991.920833   \n",
       "2001   2017-03-28  38.833333  86.041667      4.666667     995.729167   \n",
       "2002   2017-03-29  37.458333  77.708333      4.750000    1000.233333   \n",
       "2003   2017-03-30  36.291667  78.041667      7.458333     993.387500   \n",
       "2004   2017-03-31  37.916667  71.875000      7.500000     991.812500   \n",
       "\n",
       "      Low_Cloud_Ht_ft  Visibility_mi  Precip_in  \n",
       "0         4683.333333       9.833333       0.03  \n",
       "1         3450.000000       9.166667       0.01  \n",
       "2         3595.833333       7.250000       2.02  \n",
       "3         1908.333333       9.875000       0.01  \n",
       "4         1783.333333       7.833333       0.56  \n",
       "...               ...            ...        ...  \n",
       "2000       808.333333       8.166667       0.03  \n",
       "2001      7187.500000       6.750000       0.00  \n",
       "2002      6237.500000       8.208333       0.00  \n",
       "2003      2866.666667       8.375000       0.10  \n",
       "2004      3950.000000       9.750000       0.00  \n",
       "\n",
       "[2005 rows x 8 columns]"
      ]
     },
     "execution_count": 10,
     "metadata": {},
     "output_type": "execute_result"
    }
   ],
   "source": [
    "daily_data"
   ]
  },
  {
   "cell_type": "markdown",
   "id": "686b32bb",
   "metadata": {},
   "source": [
    "### **Assign 2nd next Day's Precipitation to current days features to predict Two Days in advance**\n",
    "\n",
    "adds a new column `Precip_next`. This column represents the precipitation value of the next day by shifting the `Precip_in` column upwards by one row."
   ]
  },
  {
   "cell_type": "code",
   "execution_count": 11,
   "id": "0bd7d4c6",
   "metadata": {},
   "outputs": [],
   "source": [
    "daily_data['Precip_next']=daily_data['Precip_in'].shift(-2)\n",
    "\n",
    "daily_data.dropna(subset=['Precip_next'],inplace=True)"
   ]
  },
  {
   "cell_type": "code",
   "execution_count": 12,
   "id": "4cff3997",
   "metadata": {},
   "outputs": [
    {
     "data": {
      "text/html": [
       "<div>\n",
       "<style scoped>\n",
       "    .dataframe tbody tr th:only-of-type {\n",
       "        vertical-align: middle;\n",
       "    }\n",
       "\n",
       "    .dataframe tbody tr th {\n",
       "        vertical-align: top;\n",
       "    }\n",
       "\n",
       "    .dataframe thead th {\n",
       "        text-align: right;\n",
       "    }\n",
       "</style>\n",
       "<table border=\"1\" class=\"dataframe\">\n",
       "  <thead>\n",
       "    <tr style=\"text-align: right;\">\n",
       "      <th></th>\n",
       "      <th>DateTime_UTC</th>\n",
       "      <th>Temp_F</th>\n",
       "      <th>RH_pct</th>\n",
       "      <th>Wind_Spd_mph</th>\n",
       "      <th>Atm_Press_hPa</th>\n",
       "      <th>Low_Cloud_Ht_ft</th>\n",
       "      <th>Visibility_mi</th>\n",
       "      <th>Precip_in</th>\n",
       "      <th>Precip_next</th>\n",
       "    </tr>\n",
       "  </thead>\n",
       "  <tbody>\n",
       "    <tr>\n",
       "      <th>0</th>\n",
       "      <td>2006-10-01</td>\n",
       "      <td>51.500000</td>\n",
       "      <td>74.958333</td>\n",
       "      <td>5.166667</td>\n",
       "      <td>991.275000</td>\n",
       "      <td>4683.333333</td>\n",
       "      <td>9.833333</td>\n",
       "      <td>0.03</td>\n",
       "      <td>2.02</td>\n",
       "    </tr>\n",
       "    <tr>\n",
       "      <th>1</th>\n",
       "      <td>2006-10-02</td>\n",
       "      <td>62.750000</td>\n",
       "      <td>73.166667</td>\n",
       "      <td>5.250000</td>\n",
       "      <td>990.054167</td>\n",
       "      <td>3450.000000</td>\n",
       "      <td>9.166667</td>\n",
       "      <td>0.01</td>\n",
       "      <td>0.01</td>\n",
       "    </tr>\n",
       "    <tr>\n",
       "      <th>2</th>\n",
       "      <td>2006-10-03</td>\n",
       "      <td>59.875000</td>\n",
       "      <td>81.458333</td>\n",
       "      <td>4.875000</td>\n",
       "      <td>993.491667</td>\n",
       "      <td>3595.833333</td>\n",
       "      <td>7.250000</td>\n",
       "      <td>2.02</td>\n",
       "      <td>0.56</td>\n",
       "    </tr>\n",
       "    <tr>\n",
       "      <th>3</th>\n",
       "      <td>2006-10-04</td>\n",
       "      <td>55.625000</td>\n",
       "      <td>72.041667</td>\n",
       "      <td>9.833333</td>\n",
       "      <td>997.937500</td>\n",
       "      <td>1908.333333</td>\n",
       "      <td>9.875000</td>\n",
       "      <td>0.01</td>\n",
       "      <td>0.00</td>\n",
       "    </tr>\n",
       "    <tr>\n",
       "      <th>4</th>\n",
       "      <td>2006-10-05</td>\n",
       "      <td>49.208333</td>\n",
       "      <td>75.791667</td>\n",
       "      <td>5.083333</td>\n",
       "      <td>1002.075000</td>\n",
       "      <td>1783.333333</td>\n",
       "      <td>7.833333</td>\n",
       "      <td>0.56</td>\n",
       "      <td>0.00</td>\n",
       "    </tr>\n",
       "    <tr>\n",
       "      <th>...</th>\n",
       "      <td>...</td>\n",
       "      <td>...</td>\n",
       "      <td>...</td>\n",
       "      <td>...</td>\n",
       "      <td>...</td>\n",
       "      <td>...</td>\n",
       "      <td>...</td>\n",
       "      <td>...</td>\n",
       "      <td>...</td>\n",
       "    </tr>\n",
       "    <tr>\n",
       "      <th>1998</th>\n",
       "      <td>2017-03-25</td>\n",
       "      <td>37.833333</td>\n",
       "      <td>81.875000</td>\n",
       "      <td>8.208333</td>\n",
       "      <td>997.925000</td>\n",
       "      <td>2537.500000</td>\n",
       "      <td>9.541667</td>\n",
       "      <td>0.11</td>\n",
       "      <td>0.03</td>\n",
       "    </tr>\n",
       "    <tr>\n",
       "      <th>1999</th>\n",
       "      <td>2017-03-26</td>\n",
       "      <td>41.666667</td>\n",
       "      <td>89.625000</td>\n",
       "      <td>4.250000</td>\n",
       "      <td>991.770833</td>\n",
       "      <td>950.000000</td>\n",
       "      <td>6.875000</td>\n",
       "      <td>0.09</td>\n",
       "      <td>0.00</td>\n",
       "    </tr>\n",
       "    <tr>\n",
       "      <th>2000</th>\n",
       "      <td>2017-03-27</td>\n",
       "      <td>38.250000</td>\n",
       "      <td>88.250000</td>\n",
       "      <td>4.750000</td>\n",
       "      <td>991.920833</td>\n",
       "      <td>808.333333</td>\n",
       "      <td>8.166667</td>\n",
       "      <td>0.03</td>\n",
       "      <td>0.00</td>\n",
       "    </tr>\n",
       "    <tr>\n",
       "      <th>2001</th>\n",
       "      <td>2017-03-28</td>\n",
       "      <td>38.833333</td>\n",
       "      <td>86.041667</td>\n",
       "      <td>4.666667</td>\n",
       "      <td>995.729167</td>\n",
       "      <td>7187.500000</td>\n",
       "      <td>6.750000</td>\n",
       "      <td>0.00</td>\n",
       "      <td>0.10</td>\n",
       "    </tr>\n",
       "    <tr>\n",
       "      <th>2002</th>\n",
       "      <td>2017-03-29</td>\n",
       "      <td>37.458333</td>\n",
       "      <td>77.708333</td>\n",
       "      <td>4.750000</td>\n",
       "      <td>1000.233333</td>\n",
       "      <td>6237.500000</td>\n",
       "      <td>8.208333</td>\n",
       "      <td>0.00</td>\n",
       "      <td>0.00</td>\n",
       "    </tr>\n",
       "  </tbody>\n",
       "</table>\n",
       "<p>2003 rows × 9 columns</p>\n",
       "</div>"
      ],
      "text/plain": [
       "     DateTime_UTC     Temp_F     RH_pct  Wind_Spd_mph  Atm_Press_hPa  \\\n",
       "0      2006-10-01  51.500000  74.958333      5.166667     991.275000   \n",
       "1      2006-10-02  62.750000  73.166667      5.250000     990.054167   \n",
       "2      2006-10-03  59.875000  81.458333      4.875000     993.491667   \n",
       "3      2006-10-04  55.625000  72.041667      9.833333     997.937500   \n",
       "4      2006-10-05  49.208333  75.791667      5.083333    1002.075000   \n",
       "...           ...        ...        ...           ...            ...   \n",
       "1998   2017-03-25  37.833333  81.875000      8.208333     997.925000   \n",
       "1999   2017-03-26  41.666667  89.625000      4.250000     991.770833   \n",
       "2000   2017-03-27  38.250000  88.250000      4.750000     991.920833   \n",
       "2001   2017-03-28  38.833333  86.041667      4.666667     995.729167   \n",
       "2002   2017-03-29  37.458333  77.708333      4.750000    1000.233333   \n",
       "\n",
       "      Low_Cloud_Ht_ft  Visibility_mi  Precip_in  Precip_next  \n",
       "0         4683.333333       9.833333       0.03         2.02  \n",
       "1         3450.000000       9.166667       0.01         0.01  \n",
       "2         3595.833333       7.250000       2.02         0.56  \n",
       "3         1908.333333       9.875000       0.01         0.00  \n",
       "4         1783.333333       7.833333       0.56         0.00  \n",
       "...               ...            ...        ...          ...  \n",
       "1998      2537.500000       9.541667       0.11         0.03  \n",
       "1999       950.000000       6.875000       0.09         0.00  \n",
       "2000       808.333333       8.166667       0.03         0.00  \n",
       "2001      7187.500000       6.750000       0.00         0.10  \n",
       "2002      6237.500000       8.208333       0.00         0.00  \n",
       "\n",
       "[2003 rows x 9 columns]"
      ]
     },
     "execution_count": 12,
     "metadata": {},
     "output_type": "execute_result"
    }
   ],
   "source": [
    "daily_data"
   ]
  },
  {
   "cell_type": "markdown",
   "id": "f3e397ef",
   "metadata": {},
   "source": [
    "**We need to remove March 30th & 31st for every year because when we shifted the precipitation values, it took on the value of October 1st and 2nd, which is not desired.**"
   ]
  },
  {
   "cell_type": "code",
   "execution_count": 13,
   "id": "27d7db33",
   "metadata": {},
   "outputs": [
    {
     "data": {
      "text/plain": [
       "[datetime.date(2006, 3, 31),\n",
       " datetime.date(2006, 3, 30),\n",
       " datetime.date(2007, 3, 31),\n",
       " datetime.date(2007, 3, 30),\n",
       " datetime.date(2008, 3, 31),\n",
       " datetime.date(2008, 3, 30),\n",
       " datetime.date(2009, 3, 31),\n",
       " datetime.date(2009, 3, 30),\n",
       " datetime.date(2010, 3, 31),\n",
       " datetime.date(2010, 3, 30),\n",
       " datetime.date(2011, 3, 31),\n",
       " datetime.date(2011, 3, 30),\n",
       " datetime.date(2012, 3, 31),\n",
       " datetime.date(2012, 3, 30),\n",
       " datetime.date(2013, 3, 31),\n",
       " datetime.date(2013, 3, 30),\n",
       " datetime.date(2014, 3, 31),\n",
       " datetime.date(2014, 3, 30),\n",
       " datetime.date(2015, 3, 31),\n",
       " datetime.date(2015, 3, 30),\n",
       " datetime.date(2016, 3, 31),\n",
       " datetime.date(2016, 3, 30),\n",
       " datetime.date(2017, 3, 31),\n",
       " datetime.date(2017, 3, 30)]"
      ]
     },
     "execution_count": 13,
     "metadata": {},
     "output_type": "execute_result"
    }
   ],
   "source": [
    "year_list = [2006,2007,2008,2009,2010,2011,2012,2013,2014,2015,2016,2017]\n",
    "remove_dates = []\n",
    "for y in year_list:\n",
    "    # Create date objects for March 31st and March 30th\n",
    "    mar_31 = date(y, 3, 31)\n",
    "    mar_30 = date(y, 3, 30)\n",
    "    \n",
    "    # Append dates to the list\n",
    "    remove_dates.append(mar_31)\n",
    "    remove_dates.append(mar_30)\n",
    "\n",
    "# Print the list of dates to be removed\n",
    "remove_dates"
   ]
  },
  {
   "cell_type": "code",
   "execution_count": 14,
   "id": "8adb0a94",
   "metadata": {},
   "outputs": [
    {
     "data": {
      "text/html": [
       "<div>\n",
       "<style scoped>\n",
       "    .dataframe tbody tr th:only-of-type {\n",
       "        vertical-align: middle;\n",
       "    }\n",
       "\n",
       "    .dataframe tbody tr th {\n",
       "        vertical-align: top;\n",
       "    }\n",
       "\n",
       "    .dataframe thead th {\n",
       "        text-align: right;\n",
       "    }\n",
       "</style>\n",
       "<table border=\"1\" class=\"dataframe\">\n",
       "  <thead>\n",
       "    <tr style=\"text-align: right;\">\n",
       "      <th></th>\n",
       "      <th>DateTime_UTC</th>\n",
       "      <th>Temp_F</th>\n",
       "      <th>RH_pct</th>\n",
       "      <th>Wind_Spd_mph</th>\n",
       "      <th>Atm_Press_hPa</th>\n",
       "      <th>Low_Cloud_Ht_ft</th>\n",
       "      <th>Visibility_mi</th>\n",
       "      <th>Precip_in</th>\n",
       "      <th>Precip_next</th>\n",
       "    </tr>\n",
       "  </thead>\n",
       "  <tbody>\n",
       "    <tr>\n",
       "      <th>0</th>\n",
       "      <td>2006-10-01</td>\n",
       "      <td>51.500000</td>\n",
       "      <td>74.958333</td>\n",
       "      <td>5.166667</td>\n",
       "      <td>991.275000</td>\n",
       "      <td>4683.333333</td>\n",
       "      <td>9.833333</td>\n",
       "      <td>0.03</td>\n",
       "      <td>2.02</td>\n",
       "    </tr>\n",
       "    <tr>\n",
       "      <th>1</th>\n",
       "      <td>2006-10-02</td>\n",
       "      <td>62.750000</td>\n",
       "      <td>73.166667</td>\n",
       "      <td>5.250000</td>\n",
       "      <td>990.054167</td>\n",
       "      <td>3450.000000</td>\n",
       "      <td>9.166667</td>\n",
       "      <td>0.01</td>\n",
       "      <td>0.01</td>\n",
       "    </tr>\n",
       "    <tr>\n",
       "      <th>2</th>\n",
       "      <td>2006-10-03</td>\n",
       "      <td>59.875000</td>\n",
       "      <td>81.458333</td>\n",
       "      <td>4.875000</td>\n",
       "      <td>993.491667</td>\n",
       "      <td>3595.833333</td>\n",
       "      <td>7.250000</td>\n",
       "      <td>2.02</td>\n",
       "      <td>0.56</td>\n",
       "    </tr>\n",
       "    <tr>\n",
       "      <th>3</th>\n",
       "      <td>2006-10-04</td>\n",
       "      <td>55.625000</td>\n",
       "      <td>72.041667</td>\n",
       "      <td>9.833333</td>\n",
       "      <td>997.937500</td>\n",
       "      <td>1908.333333</td>\n",
       "      <td>9.875000</td>\n",
       "      <td>0.01</td>\n",
       "      <td>0.00</td>\n",
       "    </tr>\n",
       "    <tr>\n",
       "      <th>4</th>\n",
       "      <td>2006-10-05</td>\n",
       "      <td>49.208333</td>\n",
       "      <td>75.791667</td>\n",
       "      <td>5.083333</td>\n",
       "      <td>1002.075000</td>\n",
       "      <td>1783.333333</td>\n",
       "      <td>7.833333</td>\n",
       "      <td>0.56</td>\n",
       "      <td>0.00</td>\n",
       "    </tr>\n",
       "    <tr>\n",
       "      <th>...</th>\n",
       "      <td>...</td>\n",
       "      <td>...</td>\n",
       "      <td>...</td>\n",
       "      <td>...</td>\n",
       "      <td>...</td>\n",
       "      <td>...</td>\n",
       "      <td>...</td>\n",
       "      <td>...</td>\n",
       "      <td>...</td>\n",
       "    </tr>\n",
       "    <tr>\n",
       "      <th>1978</th>\n",
       "      <td>2017-03-25</td>\n",
       "      <td>37.833333</td>\n",
       "      <td>81.875000</td>\n",
       "      <td>8.208333</td>\n",
       "      <td>997.925000</td>\n",
       "      <td>2537.500000</td>\n",
       "      <td>9.541667</td>\n",
       "      <td>0.11</td>\n",
       "      <td>0.03</td>\n",
       "    </tr>\n",
       "    <tr>\n",
       "      <th>1979</th>\n",
       "      <td>2017-03-26</td>\n",
       "      <td>41.666667</td>\n",
       "      <td>89.625000</td>\n",
       "      <td>4.250000</td>\n",
       "      <td>991.770833</td>\n",
       "      <td>950.000000</td>\n",
       "      <td>6.875000</td>\n",
       "      <td>0.09</td>\n",
       "      <td>0.00</td>\n",
       "    </tr>\n",
       "    <tr>\n",
       "      <th>1980</th>\n",
       "      <td>2017-03-27</td>\n",
       "      <td>38.250000</td>\n",
       "      <td>88.250000</td>\n",
       "      <td>4.750000</td>\n",
       "      <td>991.920833</td>\n",
       "      <td>808.333333</td>\n",
       "      <td>8.166667</td>\n",
       "      <td>0.03</td>\n",
       "      <td>0.00</td>\n",
       "    </tr>\n",
       "    <tr>\n",
       "      <th>1981</th>\n",
       "      <td>2017-03-28</td>\n",
       "      <td>38.833333</td>\n",
       "      <td>86.041667</td>\n",
       "      <td>4.666667</td>\n",
       "      <td>995.729167</td>\n",
       "      <td>7187.500000</td>\n",
       "      <td>6.750000</td>\n",
       "      <td>0.00</td>\n",
       "      <td>0.10</td>\n",
       "    </tr>\n",
       "    <tr>\n",
       "      <th>1982</th>\n",
       "      <td>2017-03-29</td>\n",
       "      <td>37.458333</td>\n",
       "      <td>77.708333</td>\n",
       "      <td>4.750000</td>\n",
       "      <td>1000.233333</td>\n",
       "      <td>6237.500000</td>\n",
       "      <td>8.208333</td>\n",
       "      <td>0.00</td>\n",
       "      <td>0.00</td>\n",
       "    </tr>\n",
       "  </tbody>\n",
       "</table>\n",
       "<p>1983 rows × 9 columns</p>\n",
       "</div>"
      ],
      "text/plain": [
       "     DateTime_UTC     Temp_F     RH_pct  Wind_Spd_mph  Atm_Press_hPa  \\\n",
       "0      2006-10-01  51.500000  74.958333      5.166667     991.275000   \n",
       "1      2006-10-02  62.750000  73.166667      5.250000     990.054167   \n",
       "2      2006-10-03  59.875000  81.458333      4.875000     993.491667   \n",
       "3      2006-10-04  55.625000  72.041667      9.833333     997.937500   \n",
       "4      2006-10-05  49.208333  75.791667      5.083333    1002.075000   \n",
       "...           ...        ...        ...           ...            ...   \n",
       "1978   2017-03-25  37.833333  81.875000      8.208333     997.925000   \n",
       "1979   2017-03-26  41.666667  89.625000      4.250000     991.770833   \n",
       "1980   2017-03-27  38.250000  88.250000      4.750000     991.920833   \n",
       "1981   2017-03-28  38.833333  86.041667      4.666667     995.729167   \n",
       "1982   2017-03-29  37.458333  77.708333      4.750000    1000.233333   \n",
       "\n",
       "      Low_Cloud_Ht_ft  Visibility_mi  Precip_in  Precip_next  \n",
       "0         4683.333333       9.833333       0.03         2.02  \n",
       "1         3450.000000       9.166667       0.01         0.01  \n",
       "2         3595.833333       7.250000       2.02         0.56  \n",
       "3         1908.333333       9.875000       0.01         0.00  \n",
       "4         1783.333333       7.833333       0.56         0.00  \n",
       "...               ...            ...        ...          ...  \n",
       "1978      2537.500000       9.541667       0.11         0.03  \n",
       "1979       950.000000       6.875000       0.09         0.00  \n",
       "1980       808.333333       8.166667       0.03         0.00  \n",
       "1981      7187.500000       6.750000       0.00         0.10  \n",
       "1982      6237.500000       8.208333       0.00         0.00  \n",
       "\n",
       "[1983 rows x 9 columns]"
      ]
     },
     "execution_count": 14,
     "metadata": {},
     "output_type": "execute_result"
    }
   ],
   "source": [
    "daily_data = daily_data[~daily_data['DateTime_UTC'].isin(remove_dates)].reset_index(drop=True)\n",
    "daily_data"
   ]
  },
  {
   "cell_type": "markdown",
   "id": "d424c65e",
   "metadata": {},
   "source": [
    "**Min, Max and Mean Precipitation values**"
   ]
  },
  {
   "cell_type": "code",
   "execution_count": 15,
   "id": "01d6dc6a",
   "metadata": {},
   "outputs": [
    {
     "name": "stdout",
     "output_type": "stream",
     "text": [
      "Mean precipitation: 0.06043872919818456\n",
      "Minimum precipitation: 0.0\n",
      "Maximum precipitation: 2.02\n"
     ]
    }
   ],
   "source": [
    "mean_precip = daily_data['Precip_in'].mean()\n",
    "min_precip = daily_data['Precip_in'].min()\n",
    "max_precip = daily_data['Precip_in'].max()\n",
    "\n",
    "print(\"Mean precipitation:\", mean_precip)\n",
    "print(\"Minimum precipitation:\", min_precip)\n",
    "print(\"Maximum precipitation:\", max_precip)"
   ]
  },
  {
   "cell_type": "markdown",
   "id": "2ad65e11",
   "metadata": {},
   "source": [
    "**Categorizing Precipitation Data**\n",
    "\n",
    "Categorize precipitation data into different levels ('No Rain', 'Light Rain', 'Moderate Rain', 'Heavy Rain')"
   ]
  },
  {
   "cell_type": "code",
   "execution_count": 16,
   "id": "6708628c",
   "metadata": {},
   "outputs": [
    {
     "data": {
      "text/html": [
       "<div>\n",
       "<style scoped>\n",
       "    .dataframe tbody tr th:only-of-type {\n",
       "        vertical-align: middle;\n",
       "    }\n",
       "\n",
       "    .dataframe tbody tr th {\n",
       "        vertical-align: top;\n",
       "    }\n",
       "\n",
       "    .dataframe thead th {\n",
       "        text-align: right;\n",
       "    }\n",
       "</style>\n",
       "<table border=\"1\" class=\"dataframe\">\n",
       "  <thead>\n",
       "    <tr style=\"text-align: right;\">\n",
       "      <th></th>\n",
       "      <th>DateTime_UTC</th>\n",
       "      <th>Temp_F</th>\n",
       "      <th>RH_pct</th>\n",
       "      <th>Wind_Spd_mph</th>\n",
       "      <th>Atm_Press_hPa</th>\n",
       "      <th>Low_Cloud_Ht_ft</th>\n",
       "      <th>Visibility_mi</th>\n",
       "      <th>Precip_in</th>\n",
       "      <th>Precip_next</th>\n",
       "      <th>target</th>\n",
       "    </tr>\n",
       "  </thead>\n",
       "  <tbody>\n",
       "    <tr>\n",
       "      <th>0</th>\n",
       "      <td>2006-10-01</td>\n",
       "      <td>51.500000</td>\n",
       "      <td>74.958333</td>\n",
       "      <td>5.166667</td>\n",
       "      <td>991.275000</td>\n",
       "      <td>4683.333333</td>\n",
       "      <td>9.833333</td>\n",
       "      <td>0.03</td>\n",
       "      <td>2.02</td>\n",
       "      <td>Heavy Rain</td>\n",
       "    </tr>\n",
       "    <tr>\n",
       "      <th>1</th>\n",
       "      <td>2006-10-02</td>\n",
       "      <td>62.750000</td>\n",
       "      <td>73.166667</td>\n",
       "      <td>5.250000</td>\n",
       "      <td>990.054167</td>\n",
       "      <td>3450.000000</td>\n",
       "      <td>9.166667</td>\n",
       "      <td>0.01</td>\n",
       "      <td>0.01</td>\n",
       "      <td>Light Rain</td>\n",
       "    </tr>\n",
       "    <tr>\n",
       "      <th>2</th>\n",
       "      <td>2006-10-03</td>\n",
       "      <td>59.875000</td>\n",
       "      <td>81.458333</td>\n",
       "      <td>4.875000</td>\n",
       "      <td>993.491667</td>\n",
       "      <td>3595.833333</td>\n",
       "      <td>7.250000</td>\n",
       "      <td>2.02</td>\n",
       "      <td>0.56</td>\n",
       "      <td>Heavy Rain</td>\n",
       "    </tr>\n",
       "    <tr>\n",
       "      <th>3</th>\n",
       "      <td>2006-10-04</td>\n",
       "      <td>55.625000</td>\n",
       "      <td>72.041667</td>\n",
       "      <td>9.833333</td>\n",
       "      <td>997.937500</td>\n",
       "      <td>1908.333333</td>\n",
       "      <td>9.875000</td>\n",
       "      <td>0.01</td>\n",
       "      <td>0.00</td>\n",
       "      <td>No Rain</td>\n",
       "    </tr>\n",
       "    <tr>\n",
       "      <th>4</th>\n",
       "      <td>2006-10-05</td>\n",
       "      <td>49.208333</td>\n",
       "      <td>75.791667</td>\n",
       "      <td>5.083333</td>\n",
       "      <td>1002.075000</td>\n",
       "      <td>1783.333333</td>\n",
       "      <td>7.833333</td>\n",
       "      <td>0.56</td>\n",
       "      <td>0.00</td>\n",
       "      <td>No Rain</td>\n",
       "    </tr>\n",
       "  </tbody>\n",
       "</table>\n",
       "</div>"
      ],
      "text/plain": [
       "  DateTime_UTC     Temp_F     RH_pct  Wind_Spd_mph  Atm_Press_hPa  \\\n",
       "0   2006-10-01  51.500000  74.958333      5.166667     991.275000   \n",
       "1   2006-10-02  62.750000  73.166667      5.250000     990.054167   \n",
       "2   2006-10-03  59.875000  81.458333      4.875000     993.491667   \n",
       "3   2006-10-04  55.625000  72.041667      9.833333     997.937500   \n",
       "4   2006-10-05  49.208333  75.791667      5.083333    1002.075000   \n",
       "\n",
       "   Low_Cloud_Ht_ft  Visibility_mi  Precip_in  Precip_next      target  \n",
       "0      4683.333333       9.833333       0.03         2.02  Heavy Rain  \n",
       "1      3450.000000       9.166667       0.01         0.01  Light Rain  \n",
       "2      3595.833333       7.250000       2.02         0.56  Heavy Rain  \n",
       "3      1908.333333       9.875000       0.01         0.00     No Rain  \n",
       "4      1783.333333       7.833333       0.56         0.00     No Rain  "
      ]
     },
     "execution_count": 16,
     "metadata": {},
     "output_type": "execute_result"
    }
   ],
   "source": [
    "# Define conditions based on real scenarios\n",
    "conditions = [\n",
    "    (daily_data['Precip_next'] == 0),\n",
    "    (daily_data['Precip_next'] > 0) & (daily_data['Precip_next'] <= 0.1),\n",
    "    (daily_data['Precip_next'] > 0.1) & (daily_data['Precip_next'] <= 0.3),\n",
    "    (daily_data['Precip_next'] > 0.3)\n",
    "]\n",
    "\n",
    "# Define corresponding labels for each condition\n",
    "names = ['No Rain', 'Light Rain', 'Moderate Rain', 'Heavy Rain']\n",
    "\n",
    "# Replace values in 'target' column with corresponding labels based on conditions \n",
    "daily_data['target'] = np.select(conditions, names, default='')\n",
    "daily_data.head()"
   ]
  },
  {
   "cell_type": "markdown",
   "id": "a05b06b1",
   "metadata": {},
   "source": [
    "**Class distribution in the `target` column after categorization**"
   ]
  },
  {
   "cell_type": "code",
   "execution_count": 17,
   "id": "7768bbf6",
   "metadata": {},
   "outputs": [
    {
     "name": "stdout",
     "output_type": "stream",
     "text": [
      "target\n",
      "No Rain          1047\n",
      "Light Rain        633\n",
      "Moderate Rain     197\n",
      "Heavy Rain        106\n",
      "Name: count, dtype: int64\n"
     ]
    }
   ],
   "source": [
    "print(daily_data['target'].value_counts())"
   ]
  },
  {
   "cell_type": "markdown",
   "id": "d546eaea",
   "metadata": {},
   "source": [
    "**One-Hot Encoding the Target Column**"
   ]
  },
  {
   "cell_type": "code",
   "execution_count": 18,
   "id": "fbaddce5",
   "metadata": {},
   "outputs": [
    {
     "data": {
      "text/html": [
       "<div>\n",
       "<style scoped>\n",
       "    .dataframe tbody tr th:only-of-type {\n",
       "        vertical-align: middle;\n",
       "    }\n",
       "\n",
       "    .dataframe tbody tr th {\n",
       "        vertical-align: top;\n",
       "    }\n",
       "\n",
       "    .dataframe thead th {\n",
       "        text-align: right;\n",
       "    }\n",
       "</style>\n",
       "<table border=\"1\" class=\"dataframe\">\n",
       "  <thead>\n",
       "    <tr style=\"text-align: right;\">\n",
       "      <th></th>\n",
       "      <th>DateTime_UTC</th>\n",
       "      <th>Temp_F</th>\n",
       "      <th>RH_pct</th>\n",
       "      <th>Wind_Spd_mph</th>\n",
       "      <th>Atm_Press_hPa</th>\n",
       "      <th>Low_Cloud_Ht_ft</th>\n",
       "      <th>Visibility_mi</th>\n",
       "      <th>Precip_in</th>\n",
       "      <th>Precip_next</th>\n",
       "      <th>target</th>\n",
       "      <th>No Rain</th>\n",
       "      <th>Light Rain</th>\n",
       "      <th>Moderate Rain</th>\n",
       "      <th>Heavy Rain</th>\n",
       "    </tr>\n",
       "  </thead>\n",
       "  <tbody>\n",
       "    <tr>\n",
       "      <th>0</th>\n",
       "      <td>2006-10-01</td>\n",
       "      <td>51.500000</td>\n",
       "      <td>74.958333</td>\n",
       "      <td>5.166667</td>\n",
       "      <td>991.275000</td>\n",
       "      <td>4683.333333</td>\n",
       "      <td>9.833333</td>\n",
       "      <td>0.03</td>\n",
       "      <td>2.02</td>\n",
       "      <td>Heavy Rain</td>\n",
       "      <td>0</td>\n",
       "      <td>0</td>\n",
       "      <td>0</td>\n",
       "      <td>1</td>\n",
       "    </tr>\n",
       "    <tr>\n",
       "      <th>1</th>\n",
       "      <td>2006-10-02</td>\n",
       "      <td>62.750000</td>\n",
       "      <td>73.166667</td>\n",
       "      <td>5.250000</td>\n",
       "      <td>990.054167</td>\n",
       "      <td>3450.000000</td>\n",
       "      <td>9.166667</td>\n",
       "      <td>0.01</td>\n",
       "      <td>0.01</td>\n",
       "      <td>Light Rain</td>\n",
       "      <td>0</td>\n",
       "      <td>1</td>\n",
       "      <td>0</td>\n",
       "      <td>0</td>\n",
       "    </tr>\n",
       "    <tr>\n",
       "      <th>2</th>\n",
       "      <td>2006-10-03</td>\n",
       "      <td>59.875000</td>\n",
       "      <td>81.458333</td>\n",
       "      <td>4.875000</td>\n",
       "      <td>993.491667</td>\n",
       "      <td>3595.833333</td>\n",
       "      <td>7.250000</td>\n",
       "      <td>2.02</td>\n",
       "      <td>0.56</td>\n",
       "      <td>Heavy Rain</td>\n",
       "      <td>0</td>\n",
       "      <td>0</td>\n",
       "      <td>0</td>\n",
       "      <td>1</td>\n",
       "    </tr>\n",
       "    <tr>\n",
       "      <th>3</th>\n",
       "      <td>2006-10-04</td>\n",
       "      <td>55.625000</td>\n",
       "      <td>72.041667</td>\n",
       "      <td>9.833333</td>\n",
       "      <td>997.937500</td>\n",
       "      <td>1908.333333</td>\n",
       "      <td>9.875000</td>\n",
       "      <td>0.01</td>\n",
       "      <td>0.00</td>\n",
       "      <td>No Rain</td>\n",
       "      <td>1</td>\n",
       "      <td>0</td>\n",
       "      <td>0</td>\n",
       "      <td>0</td>\n",
       "    </tr>\n",
       "    <tr>\n",
       "      <th>4</th>\n",
       "      <td>2006-10-05</td>\n",
       "      <td>49.208333</td>\n",
       "      <td>75.791667</td>\n",
       "      <td>5.083333</td>\n",
       "      <td>1002.075000</td>\n",
       "      <td>1783.333333</td>\n",
       "      <td>7.833333</td>\n",
       "      <td>0.56</td>\n",
       "      <td>0.00</td>\n",
       "      <td>No Rain</td>\n",
       "      <td>1</td>\n",
       "      <td>0</td>\n",
       "      <td>0</td>\n",
       "      <td>0</td>\n",
       "    </tr>\n",
       "  </tbody>\n",
       "</table>\n",
       "</div>"
      ],
      "text/plain": [
       "  DateTime_UTC     Temp_F     RH_pct  Wind_Spd_mph  Atm_Press_hPa  \\\n",
       "0   2006-10-01  51.500000  74.958333      5.166667     991.275000   \n",
       "1   2006-10-02  62.750000  73.166667      5.250000     990.054167   \n",
       "2   2006-10-03  59.875000  81.458333      4.875000     993.491667   \n",
       "3   2006-10-04  55.625000  72.041667      9.833333     997.937500   \n",
       "4   2006-10-05  49.208333  75.791667      5.083333    1002.075000   \n",
       "\n",
       "   Low_Cloud_Ht_ft  Visibility_mi  Precip_in  Precip_next      target  \\\n",
       "0      4683.333333       9.833333       0.03         2.02  Heavy Rain   \n",
       "1      3450.000000       9.166667       0.01         0.01  Light Rain   \n",
       "2      3595.833333       7.250000       2.02         0.56  Heavy Rain   \n",
       "3      1908.333333       9.875000       0.01         0.00     No Rain   \n",
       "4      1783.333333       7.833333       0.56         0.00     No Rain   \n",
       "\n",
       "   No Rain  Light Rain  Moderate Rain  Heavy Rain  \n",
       "0        0           0              0           1  \n",
       "1        0           1              0           0  \n",
       "2        0           0              0           1  \n",
       "3        1           0              0           0  \n",
       "4        1           0              0           0  "
      ]
     },
     "execution_count": 18,
     "metadata": {},
     "output_type": "execute_result"
    }
   ],
   "source": [
    "# Perform one-hot encoding directly on the DataFrame with specified categories order\n",
    "one_hot_encoded = pd.get_dummies(daily_data['target'], prefix='', prefix_sep='').reindex(columns=['No Rain', 'Light Rain', 'Moderate Rain', 'Heavy Rain'], fill_value=0)\n",
    "\n",
    "# Convert the data type to integer\n",
    "one_hot_encoded = one_hot_encoded.astype(int)\n",
    "\n",
    "# Concatenate the one-hot encoded columns to the DataFrame\n",
    "daily_data = pd.concat([daily_data, one_hot_encoded], axis=1)\n",
    "\n",
    "# Display the updated DataFrame\n",
    "daily_data.head()"
   ]
  },
  {
   "cell_type": "markdown",
   "id": "b08ae086",
   "metadata": {},
   "source": [
    "**Dividing the meteorological data to `features` and `lables`**"
   ]
  },
  {
   "cell_type": "code",
   "execution_count": 19,
   "id": "8eb4d524",
   "metadata": {},
   "outputs": [
    {
     "data": {
      "text/plain": [
       "Index(['Temp_F', 'RH_pct', 'Wind_Spd_mph', 'Atm_Press_hPa', 'Low_Cloud_Ht_ft',\n",
       "       'Visibility_mi', 'Precip_in'],\n",
       "      dtype='object')"
      ]
     },
     "execution_count": 19,
     "metadata": {},
     "output_type": "execute_result"
    }
   ],
   "source": [
    "features = daily_data.columns[1:8]\n",
    "features"
   ]
  },
  {
   "cell_type": "code",
   "execution_count": 20,
   "id": "a552ddc3",
   "metadata": {},
   "outputs": [
    {
     "data": {
      "text/plain": [
       "Index(['No Rain', 'Light Rain', 'Moderate Rain', 'Heavy Rain'], dtype='object')"
      ]
     },
     "execution_count": 20,
     "metadata": {},
     "output_type": "execute_result"
    }
   ],
   "source": [
    "labels = daily_data.columns[-4:]\n",
    "labels"
   ]
  },
  {
   "cell_type": "markdown",
   "id": "b0726569",
   "metadata": {},
   "source": [
    "------"
   ]
  },
  {
   "cell_type": "markdown",
   "id": "b10f597e",
   "metadata": {},
   "source": [
    "## Scale the features"
   ]
  },
  {
   "cell_type": "code",
   "execution_count": 21,
   "id": "6bdd6af9",
   "metadata": {},
   "outputs": [
    {
     "data": {
      "text/html": [
       "<div>\n",
       "<style scoped>\n",
       "    .dataframe tbody tr th:only-of-type {\n",
       "        vertical-align: middle;\n",
       "    }\n",
       "\n",
       "    .dataframe tbody tr th {\n",
       "        vertical-align: top;\n",
       "    }\n",
       "\n",
       "    .dataframe thead th {\n",
       "        text-align: right;\n",
       "    }\n",
       "</style>\n",
       "<table border=\"1\" class=\"dataframe\">\n",
       "  <thead>\n",
       "    <tr style=\"text-align: right;\">\n",
       "      <th></th>\n",
       "      <th>DateTime_UTC</th>\n",
       "      <th>Temp_F</th>\n",
       "      <th>RH_pct</th>\n",
       "      <th>Wind_Spd_mph</th>\n",
       "      <th>Atm_Press_hPa</th>\n",
       "      <th>Low_Cloud_Ht_ft</th>\n",
       "      <th>Visibility_mi</th>\n",
       "      <th>Precip_in</th>\n",
       "      <th>Precip_next</th>\n",
       "      <th>target</th>\n",
       "      <th>No Rain</th>\n",
       "      <th>Light Rain</th>\n",
       "      <th>Moderate Rain</th>\n",
       "      <th>Heavy Rain</th>\n",
       "      <th>Date</th>\n",
       "    </tr>\n",
       "  </thead>\n",
       "  <tbody>\n",
       "    <tr>\n",
       "      <th>0</th>\n",
       "      <td>2006-10-01</td>\n",
       "      <td>0.671649</td>\n",
       "      <td>0.695153</td>\n",
       "      <td>0.256351</td>\n",
       "      <td>0.556518</td>\n",
       "      <td>0.187333</td>\n",
       "      <td>0.981043</td>\n",
       "      <td>0.014851</td>\n",
       "      <td>2.02</td>\n",
       "      <td>Heavy Rain</td>\n",
       "      <td>0</td>\n",
       "      <td>0</td>\n",
       "      <td>0</td>\n",
       "      <td>1</td>\n",
       "      <td>2006-10-01</td>\n",
       "    </tr>\n",
       "    <tr>\n",
       "      <th>1</th>\n",
       "      <td>2006-10-02</td>\n",
       "      <td>0.810825</td>\n",
       "      <td>0.667730</td>\n",
       "      <td>0.260970</td>\n",
       "      <td>0.528941</td>\n",
       "      <td>0.138000</td>\n",
       "      <td>0.905213</td>\n",
       "      <td>0.004950</td>\n",
       "      <td>0.01</td>\n",
       "      <td>Light Rain</td>\n",
       "      <td>0</td>\n",
       "      <td>1</td>\n",
       "      <td>0</td>\n",
       "      <td>0</td>\n",
       "      <td>2006-10-02</td>\n",
       "    </tr>\n",
       "    <tr>\n",
       "      <th>2</th>\n",
       "      <td>2006-10-03</td>\n",
       "      <td>0.775258</td>\n",
       "      <td>0.794643</td>\n",
       "      <td>0.240185</td>\n",
       "      <td>0.606588</td>\n",
       "      <td>0.143833</td>\n",
       "      <td>0.687204</td>\n",
       "      <td>1.000000</td>\n",
       "      <td>0.56</td>\n",
       "      <td>Heavy Rain</td>\n",
       "      <td>0</td>\n",
       "      <td>0</td>\n",
       "      <td>0</td>\n",
       "      <td>1</td>\n",
       "      <td>2006-10-03</td>\n",
       "    </tr>\n",
       "    <tr>\n",
       "      <th>3</th>\n",
       "      <td>2006-10-04</td>\n",
       "      <td>0.722680</td>\n",
       "      <td>0.650510</td>\n",
       "      <td>0.515012</td>\n",
       "      <td>0.707012</td>\n",
       "      <td>0.076333</td>\n",
       "      <td>0.985782</td>\n",
       "      <td>0.004950</td>\n",
       "      <td>0.00</td>\n",
       "      <td>No Rain</td>\n",
       "      <td>1</td>\n",
       "      <td>0</td>\n",
       "      <td>0</td>\n",
       "      <td>0</td>\n",
       "      <td>2006-10-04</td>\n",
       "    </tr>\n",
       "    <tr>\n",
       "      <th>4</th>\n",
       "      <td>2006-10-05</td>\n",
       "      <td>0.643299</td>\n",
       "      <td>0.707908</td>\n",
       "      <td>0.251732</td>\n",
       "      <td>0.800471</td>\n",
       "      <td>0.071333</td>\n",
       "      <td>0.753555</td>\n",
       "      <td>0.277228</td>\n",
       "      <td>0.00</td>\n",
       "      <td>No Rain</td>\n",
       "      <td>1</td>\n",
       "      <td>0</td>\n",
       "      <td>0</td>\n",
       "      <td>0</td>\n",
       "      <td>2006-10-05</td>\n",
       "    </tr>\n",
       "    <tr>\n",
       "      <th>...</th>\n",
       "      <td>...</td>\n",
       "      <td>...</td>\n",
       "      <td>...</td>\n",
       "      <td>...</td>\n",
       "      <td>...</td>\n",
       "      <td>...</td>\n",
       "      <td>...</td>\n",
       "      <td>...</td>\n",
       "      <td>...</td>\n",
       "      <td>...</td>\n",
       "      <td>...</td>\n",
       "      <td>...</td>\n",
       "      <td>...</td>\n",
       "      <td>...</td>\n",
       "      <td>...</td>\n",
       "    </tr>\n",
       "    <tr>\n",
       "      <th>1978</th>\n",
       "      <td>2017-03-25</td>\n",
       "      <td>0.463415</td>\n",
       "      <td>0.756458</td>\n",
       "      <td>0.377083</td>\n",
       "      <td>0.663475</td>\n",
       "      <td>0.093074</td>\n",
       "      <td>0.946341</td>\n",
       "      <td>0.142857</td>\n",
       "      <td>0.03</td>\n",
       "      <td>Light Rain</td>\n",
       "      <td>0</td>\n",
       "      <td>1</td>\n",
       "      <td>0</td>\n",
       "      <td>0</td>\n",
       "      <td>2017-03-25</td>\n",
       "    </tr>\n",
       "    <tr>\n",
       "      <th>1979</th>\n",
       "      <td>2017-03-26</td>\n",
       "      <td>0.529412</td>\n",
       "      <td>0.893727</td>\n",
       "      <td>0.179167</td>\n",
       "      <td>0.495098</td>\n",
       "      <td>0.023814</td>\n",
       "      <td>0.634146</td>\n",
       "      <td>0.116883</td>\n",
       "      <td>0.00</td>\n",
       "      <td>No Rain</td>\n",
       "      <td>1</td>\n",
       "      <td>0</td>\n",
       "      <td>0</td>\n",
       "      <td>0</td>\n",
       "      <td>2017-03-26</td>\n",
       "    </tr>\n",
       "    <tr>\n",
       "      <th>1980</th>\n",
       "      <td>2017-03-27</td>\n",
       "      <td>0.470588</td>\n",
       "      <td>0.869373</td>\n",
       "      <td>0.204167</td>\n",
       "      <td>0.499202</td>\n",
       "      <td>0.017633</td>\n",
       "      <td>0.785366</td>\n",
       "      <td>0.038961</td>\n",
       "      <td>0.00</td>\n",
       "      <td>No Rain</td>\n",
       "      <td>1</td>\n",
       "      <td>0</td>\n",
       "      <td>0</td>\n",
       "      <td>0</td>\n",
       "      <td>2017-03-27</td>\n",
       "    </tr>\n",
       "    <tr>\n",
       "      <th>1981</th>\n",
       "      <td>2017-03-28</td>\n",
       "      <td>0.480631</td>\n",
       "      <td>0.830258</td>\n",
       "      <td>0.200000</td>\n",
       "      <td>0.603397</td>\n",
       "      <td>0.295946</td>\n",
       "      <td>0.619512</td>\n",
       "      <td>0.000000</td>\n",
       "      <td>0.10</td>\n",
       "      <td>Light Rain</td>\n",
       "      <td>0</td>\n",
       "      <td>1</td>\n",
       "      <td>0</td>\n",
       "      <td>0</td>\n",
       "      <td>2017-03-28</td>\n",
       "    </tr>\n",
       "    <tr>\n",
       "      <th>1982</th>\n",
       "      <td>2017-03-29</td>\n",
       "      <td>0.456958</td>\n",
       "      <td>0.682657</td>\n",
       "      <td>0.204167</td>\n",
       "      <td>0.726630</td>\n",
       "      <td>0.254499</td>\n",
       "      <td>0.790244</td>\n",
       "      <td>0.000000</td>\n",
       "      <td>0.00</td>\n",
       "      <td>No Rain</td>\n",
       "      <td>1</td>\n",
       "      <td>0</td>\n",
       "      <td>0</td>\n",
       "      <td>0</td>\n",
       "      <td>2017-03-29</td>\n",
       "    </tr>\n",
       "  </tbody>\n",
       "</table>\n",
       "<p>1983 rows × 15 columns</p>\n",
       "</div>"
      ],
      "text/plain": [
       "     DateTime_UTC    Temp_F    RH_pct  Wind_Spd_mph  Atm_Press_hPa  \\\n",
       "0      2006-10-01  0.671649  0.695153      0.256351       0.556518   \n",
       "1      2006-10-02  0.810825  0.667730      0.260970       0.528941   \n",
       "2      2006-10-03  0.775258  0.794643      0.240185       0.606588   \n",
       "3      2006-10-04  0.722680  0.650510      0.515012       0.707012   \n",
       "4      2006-10-05  0.643299  0.707908      0.251732       0.800471   \n",
       "...           ...       ...       ...           ...            ...   \n",
       "1978   2017-03-25  0.463415  0.756458      0.377083       0.663475   \n",
       "1979   2017-03-26  0.529412  0.893727      0.179167       0.495098   \n",
       "1980   2017-03-27  0.470588  0.869373      0.204167       0.499202   \n",
       "1981   2017-03-28  0.480631  0.830258      0.200000       0.603397   \n",
       "1982   2017-03-29  0.456958  0.682657      0.204167       0.726630   \n",
       "\n",
       "      Low_Cloud_Ht_ft  Visibility_mi  Precip_in  Precip_next      target  \\\n",
       "0            0.187333       0.981043   0.014851         2.02  Heavy Rain   \n",
       "1            0.138000       0.905213   0.004950         0.01  Light Rain   \n",
       "2            0.143833       0.687204   1.000000         0.56  Heavy Rain   \n",
       "3            0.076333       0.985782   0.004950         0.00     No Rain   \n",
       "4            0.071333       0.753555   0.277228         0.00     No Rain   \n",
       "...               ...            ...        ...          ...         ...   \n",
       "1978         0.093074       0.946341   0.142857         0.03  Light Rain   \n",
       "1979         0.023814       0.634146   0.116883         0.00     No Rain   \n",
       "1980         0.017633       0.785366   0.038961         0.00     No Rain   \n",
       "1981         0.295946       0.619512   0.000000         0.10  Light Rain   \n",
       "1982         0.254499       0.790244   0.000000         0.00     No Rain   \n",
       "\n",
       "      No Rain  Light Rain  Moderate Rain  Heavy Rain        Date  \n",
       "0           0           0              0           1  2006-10-01  \n",
       "1           0           1              0           0  2006-10-02  \n",
       "2           0           0              0           1  2006-10-03  \n",
       "3           1           0              0           0  2006-10-04  \n",
       "4           1           0              0           0  2006-10-05  \n",
       "...       ...         ...            ...         ...         ...  \n",
       "1978        0           1              0           0  2017-03-25  \n",
       "1979        1           0              0           0  2017-03-26  \n",
       "1980        1           0              0           0  2017-03-27  \n",
       "1981        0           1              0           0  2017-03-28  \n",
       "1982        1           0              0           0  2017-03-29  \n",
       "\n",
       "[1983 rows x 15 columns]"
      ]
     },
     "execution_count": 21,
     "metadata": {},
     "output_type": "execute_result"
    }
   ],
   "source": [
    "# Convert 'DateTime_UTC' column to datetime type\n",
    "daily_data['DateTime_UTC'] = pd.to_datetime(daily_data['DateTime_UTC'])\n",
    "\n",
    "# Define scaler\n",
    "scaler = MinMaxScaler()\n",
    "\n",
    "# Scale data for October 2006 to March 2016\n",
    "mask_2006_to_2016 = (daily_data['DateTime_UTC'] >= '2006-10-01') & (daily_data['DateTime_UTC'] < '2016-04-01')\n",
    "daily_data.loc[mask_2006_to_2016, ['Temp_F', 'RH_pct', 'Wind_Spd_mph', 'Atm_Press_hPa', 'Low_Cloud_Ht_ft', 'Visibility_mi', 'Precip_in']] = scaler.fit_transform(daily_data.loc[mask_2006_to_2016, ['Temp_F', 'RH_pct', 'Wind_Spd_mph', 'Atm_Press_hPa', 'Low_Cloud_Ht_ft', 'Visibility_mi', 'Precip_in']])\n",
    "\n",
    "# Scale data for October 2016 to March 2017\n",
    "mask_2016_to_2017 = (daily_data['DateTime_UTC'] >= '2016-10-01') & (daily_data['DateTime_UTC'] < '2017-04-01')\n",
    "daily_data.loc[mask_2016_to_2017, ['Temp_F', 'RH_pct', 'Wind_Spd_mph', 'Atm_Press_hPa', 'Low_Cloud_Ht_ft', 'Visibility_mi', 'Precip_in']] = scaler.fit_transform(daily_data.loc[mask_2016_to_2017, ['Temp_F', 'RH_pct', 'Wind_Spd_mph', 'Atm_Press_hPa', 'Low_Cloud_Ht_ft', 'Visibility_mi', 'Precip_in']])\n",
    "\n",
    "daily_data['Date'] = daily_data['DateTime_UTC'].dt.date\n",
    "\n",
    "# Print the scaled DataFrame\n",
    "daily_data"
   ]
  },
  {
   "cell_type": "markdown",
   "id": "752d3098",
   "metadata": {},
   "source": [
    "---------"
   ]
  },
  {
   "cell_type": "markdown",
   "id": "63c65c3b",
   "metadata": {},
   "source": [
    "## Read `filtered_les_cld_imgs` data"
   ]
  },
  {
   "cell_type": "code",
   "execution_count": 22,
   "id": "45db9617",
   "metadata": {},
   "outputs": [
    {
     "data": {
      "text/html": [
       "<div>\n",
       "<style scoped>\n",
       "    .dataframe tbody tr th:only-of-type {\n",
       "        vertical-align: middle;\n",
       "    }\n",
       "\n",
       "    .dataframe tbody tr th {\n",
       "        vertical-align: top;\n",
       "    }\n",
       "\n",
       "    .dataframe thead th {\n",
       "        text-align: right;\n",
       "    }\n",
       "</style>\n",
       "<table border=\"1\" class=\"dataframe\">\n",
       "  <thead>\n",
       "    <tr style=\"text-align: right;\">\n",
       "      <th></th>\n",
       "      <th>DateTime_UTC</th>\n",
       "      <th>Lake_data_2D</th>\n",
       "    </tr>\n",
       "  </thead>\n",
       "  <tbody>\n",
       "    <tr>\n",
       "      <th>0</th>\n",
       "      <td>2006-10-01 14:00:00</td>\n",
       "      <td>[array([       nan,        nan,        nan,   ...</td>\n",
       "    </tr>\n",
       "    <tr>\n",
       "      <th>1</th>\n",
       "      <td>2006-10-01 15:00:00</td>\n",
       "      <td>[array([       nan,        nan,        nan,   ...</td>\n",
       "    </tr>\n",
       "    <tr>\n",
       "      <th>2</th>\n",
       "      <td>2006-10-01 16:00:00</td>\n",
       "      <td>[array([   nan,    nan,    nan,    nan,    nan...</td>\n",
       "    </tr>\n",
       "    <tr>\n",
       "      <th>3</th>\n",
       "      <td>2006-10-01 17:00:00</td>\n",
       "      <td>[array([ nan,  nan,  nan,  nan,  nan,  nan,  n...</td>\n",
       "    </tr>\n",
       "    <tr>\n",
       "      <th>4</th>\n",
       "      <td>2006-10-01 18:00:00</td>\n",
       "      <td>[array([   nan,    nan,    nan,    nan,    nan...</td>\n",
       "    </tr>\n",
       "  </tbody>\n",
       "</table>\n",
       "</div>"
      ],
      "text/plain": [
       "          DateTime_UTC                                       Lake_data_2D\n",
       "0  2006-10-01 14:00:00  [array([       nan,        nan,        nan,   ...\n",
       "1  2006-10-01 15:00:00  [array([       nan,        nan,        nan,   ...\n",
       "2  2006-10-01 16:00:00  [array([   nan,    nan,    nan,    nan,    nan...\n",
       "3  2006-10-01 17:00:00  [array([ nan,  nan,  nan,  nan,  nan,  nan,  n...\n",
       "4  2006-10-01 18:00:00  [array([   nan,    nan,    nan,    nan,    nan..."
      ]
     },
     "execution_count": 22,
     "metadata": {},
     "output_type": "execute_result"
    }
   ],
   "source": [
    "img_data_original = pd.read_csv('filtered_les_cld_imgs.csv')\n",
    "\n",
    "img_data = img_data_original.copy()\n",
    "img_data.head()"
   ]
  },
  {
   "cell_type": "markdown",
   "id": "279499ff",
   "metadata": {},
   "source": [
    "**Convert `DateTime_UTC` to Datetime format**"
   ]
  },
  {
   "cell_type": "code",
   "execution_count": 23,
   "id": "dd5b9d4e",
   "metadata": {},
   "outputs": [],
   "source": [
    "img_data['DateTime_UTC'] = pd.to_datetime(img_data['DateTime_UTC'], format='%Y-%m-%d %H:%M:%S')"
   ]
  },
  {
   "cell_type": "code",
   "execution_count": 24,
   "id": "54c1d035",
   "metadata": {},
   "outputs": [
    {
     "data": {
      "text/html": [
       "<div>\n",
       "<style scoped>\n",
       "    .dataframe tbody tr th:only-of-type {\n",
       "        vertical-align: middle;\n",
       "    }\n",
       "\n",
       "    .dataframe tbody tr th {\n",
       "        vertical-align: top;\n",
       "    }\n",
       "\n",
       "    .dataframe thead th {\n",
       "        text-align: right;\n",
       "    }\n",
       "</style>\n",
       "<table border=\"1\" class=\"dataframe\">\n",
       "  <thead>\n",
       "    <tr style=\"text-align: right;\">\n",
       "      <th></th>\n",
       "      <th>DateTime_UTC</th>\n",
       "      <th>Lake_data_2D</th>\n",
       "      <th>Date</th>\n",
       "    </tr>\n",
       "  </thead>\n",
       "  <tbody>\n",
       "    <tr>\n",
       "      <th>0</th>\n",
       "      <td>2006-10-01 14:00:00</td>\n",
       "      <td>[array([       nan,        nan,        nan,   ...</td>\n",
       "      <td>2006-10-01</td>\n",
       "    </tr>\n",
       "    <tr>\n",
       "      <th>1</th>\n",
       "      <td>2006-10-01 15:00:00</td>\n",
       "      <td>[array([       nan,        nan,        nan,   ...</td>\n",
       "      <td>2006-10-01</td>\n",
       "    </tr>\n",
       "    <tr>\n",
       "      <th>2</th>\n",
       "      <td>2006-10-01 16:00:00</td>\n",
       "      <td>[array([   nan,    nan,    nan,    nan,    nan...</td>\n",
       "      <td>2006-10-01</td>\n",
       "    </tr>\n",
       "    <tr>\n",
       "      <th>3</th>\n",
       "      <td>2006-10-01 17:00:00</td>\n",
       "      <td>[array([ nan,  nan,  nan,  nan,  nan,  nan,  n...</td>\n",
       "      <td>2006-10-01</td>\n",
       "    </tr>\n",
       "    <tr>\n",
       "      <th>4</th>\n",
       "      <td>2006-10-01 18:00:00</td>\n",
       "      <td>[array([   nan,    nan,    nan,    nan,    nan...</td>\n",
       "      <td>2006-10-01</td>\n",
       "    </tr>\n",
       "  </tbody>\n",
       "</table>\n",
       "</div>"
      ],
      "text/plain": [
       "         DateTime_UTC                                       Lake_data_2D  \\\n",
       "0 2006-10-01 14:00:00  [array([       nan,        nan,        nan,   ...   \n",
       "1 2006-10-01 15:00:00  [array([       nan,        nan,        nan,   ...   \n",
       "2 2006-10-01 16:00:00  [array([   nan,    nan,    nan,    nan,    nan...   \n",
       "3 2006-10-01 17:00:00  [array([ nan,  nan,  nan,  nan,  nan,  nan,  n...   \n",
       "4 2006-10-01 18:00:00  [array([   nan,    nan,    nan,    nan,    nan...   \n",
       "\n",
       "         Date  \n",
       "0  2006-10-01  \n",
       "1  2006-10-01  \n",
       "2  2006-10-01  \n",
       "3  2006-10-01  \n",
       "4  2006-10-01  "
      ]
     },
     "execution_count": 24,
     "metadata": {},
     "output_type": "execute_result"
    }
   ],
   "source": [
    "img_data['Date'] = img_data['DateTime_UTC'].dt.date\n",
    "img_data.head()"
   ]
  },
  {
   "cell_type": "markdown",
   "id": "03985e04",
   "metadata": {},
   "source": [
    "----"
   ]
  },
  {
   "cell_type": "markdown",
   "id": "dfccf4a9",
   "metadata": {},
   "source": [
    "### Creating the Training Data Sequences of Cloud images and meteorological data"
   ]
  },
  {
   "cell_type": "code",
   "execution_count": 25,
   "id": "535e8a66",
   "metadata": {},
   "outputs": [],
   "source": [
    "sequence_length = 7\n",
    "year_list = [2006,2007,2008,2009,2012,2013,2014,2015]"
   ]
  },
  {
   "cell_type": "code",
   "execution_count": 26,
   "id": "8d960935",
   "metadata": {},
   "outputs": [],
   "source": [
    "img_data['Date'] = img_data['DateTime_UTC'].dt.date"
   ]
  },
  {
   "cell_type": "code",
   "execution_count": 27,
   "id": "bb4a1f15",
   "metadata": {},
   "outputs": [
    {
     "name": "stderr",
     "output_type": "stream",
     "text": [
      "100%|████████████████████████████████████████████████████████████████████████████████████| 8/8 [03:54<00:00, 29.27s/it]\n"
     ]
    }
   ],
   "source": [
    "all_meteo_seq_list = []\n",
    "all_label_list = []\n",
    "all_video_list = []\n",
    "\n",
    "for y in tqdm(year_list):\n",
    "    start_date = date(y, 10, 1)\n",
    "    end_date = date(y+1, 3, 31)\n",
    "\n",
    "    train_meteo_data = daily_data[(daily_data['Date']>=start_date)\n",
    "                                  &(daily_data['Date']<=end_date)].reset_index(drop=True) \n",
    "    \n",
    "    train_img_data = img_data[(img_data['Date']>=start_date)\n",
    "                             &(img_data['Date']<=end_date)]\n",
    "\n",
    "    meteo_seq_list = []\n",
    "    label_list = []\n",
    "    date_list = []\n",
    "    video_list = []\n",
    "\n",
    "    for i in range(sequence_length-1, len(train_meteo_data)):\n",
    "\n",
    "        meteo_seq = train_meteo_data[i - (sequence_length-1) : i+1][features].values\n",
    "        label = train_meteo_data[labels].values[i]\n",
    "        curr_date = train_meteo_data['Date'].values[i]\n",
    "\n",
    "        meteo_seq_list.append(meteo_seq)\n",
    "        label_list.append(label)\n",
    "        date_list.append(curr_date)\n",
    "\n",
    "        curr_img_data = train_img_data[train_img_data.Date == curr_date]\n",
    "        image_list=[]\n",
    "\n",
    "        for i in range(len(curr_img_data)):\n",
    "            data_sample_2d = curr_img_data['Lake_data_2D'].values[i]\n",
    "            data_sample_2d_array = np.array(eval(data_sample_2d.replace('array(', '').replace('nan', 'np.nan').replace('\\n', '').replace(')', '')))\n",
    "            data_sample_2d_array_resized = cv2.resize(data_sample_2d_array, (64, 64))\n",
    "            data_sample_2d_array_resized = np.expand_dims(data_sample_2d_array_resized, axis=-1)\n",
    "            image_list.append(data_sample_2d_array_resized)\n",
    "\n",
    "        array_3d = np.stack(image_list, axis=0)\n",
    "        array_3d_filled = np.nan_to_num(array_3d, nan=0.0)\n",
    "        video_list.append(array_3d_filled)\n",
    "            \n",
    "    meteo_seq_array = np.stack(meteo_seq_list, axis=0)    \n",
    "    label_array = np.stack(label_list, axis=0)\n",
    "    video_array = np.stack(video_list, axis=0)\n",
    "    \n",
    "    all_meteo_seq_list.append(meteo_seq_array)\n",
    "    all_label_list.append(label_array)\n",
    "    all_video_list.append(video_array)"
   ]
  },
  {
   "cell_type": "code",
   "execution_count": 28,
   "id": "8c4be6d5",
   "metadata": {},
   "outputs": [],
   "source": [
    "train_meteo = np.concatenate(all_meteo_seq_list, axis=0)\n",
    "train_video = np.concatenate(all_video_list, axis=0)\n",
    "train_label = np.concatenate(all_label_list, axis=0)"
   ]
  },
  {
   "cell_type": "code",
   "execution_count": 29,
   "id": "02f19a96",
   "metadata": {},
   "outputs": [
    {
     "data": {
      "text/plain": [
       "((1394, 7, 7), (1394, 9, 64, 64, 1), (1394, 4))"
      ]
     },
     "execution_count": 29,
     "metadata": {},
     "output_type": "execute_result"
    }
   ],
   "source": [
    "train_meteo.shape, train_video.shape, train_label.shape"
   ]
  },
  {
   "cell_type": "markdown",
   "id": "6e76bb54",
   "metadata": {},
   "source": [
    "### Creating the Testing Data Sequences of Cloud images and meteorological data"
   ]
  },
  {
   "cell_type": "code",
   "execution_count": 30,
   "id": "488b5c8b",
   "metadata": {},
   "outputs": [],
   "source": [
    "sequence_length = 7\n",
    "year_list = [2016]"
   ]
  },
  {
   "cell_type": "code",
   "execution_count": 31,
   "id": "7ccd5e7e",
   "metadata": {},
   "outputs": [
    {
     "name": "stderr",
     "output_type": "stream",
     "text": [
      "100%|████████████████████████████████████████████████████████████████████████████████████| 1/1 [00:28<00:00, 28.18s/it]\n"
     ]
    }
   ],
   "source": [
    "all_meteo_seq_list = []\n",
    "all_label_list = []\n",
    "all_video_list = []\n",
    "\n",
    "for y in tqdm(year_list):\n",
    "    start_date = date(y, 10, 1)\n",
    "    end_date = date(y+1, 3, 31)\n",
    "\n",
    "    train_meteo_data = daily_data[(daily_data['Date']>=start_date)\n",
    "                                  &(daily_data['Date']<=end_date)].reset_index(drop=True) \n",
    "    \n",
    "    train_img_data = img_data[(img_data['Date']>=start_date)\n",
    "                             &(img_data['Date']<=end_date)]\n",
    "\n",
    "    meteo_seq_list = []\n",
    "    label_list = []\n",
    "    date_list = []\n",
    "    video_list = []\n",
    "\n",
    "    for i in range(sequence_length-1, len(train_meteo_data)):\n",
    "\n",
    "        meteo_seq = train_meteo_data[i - (sequence_length-1) : i+1][features].values\n",
    "        label = train_meteo_data[labels].values[i]\n",
    "        curr_date = train_meteo_data['Date'].values[i]\n",
    "\n",
    "        meteo_seq_list.append(meteo_seq)\n",
    "        label_list.append(label)\n",
    "        date_list.append(curr_date)\n",
    "\n",
    "        curr_img_data = train_img_data[train_img_data.Date == curr_date]\n",
    "        image_list=[]\n",
    "\n",
    "        for i in range(len(curr_img_data)):\n",
    "            data_sample_2d = curr_img_data['Lake_data_2D'].values[i]\n",
    "            data_sample_2d_array = np.array(eval(data_sample_2d.replace('array(', '').replace('nan', 'np.nan').replace('\\n', '').replace(')', '')))\n",
    "            data_sample_2d_array_resized = cv2.resize(data_sample_2d_array, (64, 64))\n",
    "            data_sample_2d_array_resized = np.expand_dims(data_sample_2d_array_resized, axis=-1)\n",
    "            image_list.append(data_sample_2d_array_resized)\n",
    "\n",
    "        array_3d = np.stack(image_list, axis=0)\n",
    "        array_3d_filled = np.nan_to_num(array_3d, nan=0.0)\n",
    "        video_list.append(array_3d_filled)\n",
    "            \n",
    "    meteo_seq_array = np.stack(meteo_seq_list, axis=0)    \n",
    "    label_array = np.stack(label_list, axis=0)\n",
    "    video_array = np.stack(video_list, axis=0)\n",
    "    \n",
    "    all_meteo_seq_list.append(meteo_seq_array)\n",
    "    all_label_list.append(label_array)\n",
    "    all_video_list.append(video_array)"
   ]
  },
  {
   "cell_type": "code",
   "execution_count": 32,
   "id": "3381d3f2",
   "metadata": {},
   "outputs": [],
   "source": [
    "test_meteo = np.concatenate(all_meteo_seq_list, axis=0)\n",
    "test_video = np.concatenate(all_video_list, axis=0)\n",
    "test_label = np.concatenate(all_label_list, axis=0)"
   ]
  },
  {
   "cell_type": "code",
   "execution_count": 33,
   "id": "c316d007",
   "metadata": {},
   "outputs": [
    {
     "data": {
      "text/plain": [
       "((174, 7, 7), (174, 9, 64, 64, 1), (174, 4))"
      ]
     },
     "execution_count": 33,
     "metadata": {},
     "output_type": "execute_result"
    }
   ],
   "source": [
    "test_meteo.shape, test_video.shape, test_label.shape"
   ]
  },
  {
   "cell_type": "markdown",
   "id": "c58dcd82",
   "metadata": {},
   "source": [
    "---"
   ]
  },
  {
   "cell_type": "markdown",
   "id": "a056cd60",
   "metadata": {},
   "source": [
    "\n",
    "# Convolutional Neural Network + Recurrent Neural Network Architecture\n",
    "\n",
    "## Hybrid Model 1"
   ]
  },
  {
   "cell_type": "markdown",
   "id": "c5d0dbfd",
   "metadata": {},
   "source": [
    "**To balance the weights and pay more attention to underrepresented classes, we will calculate the class weights and pass this during training**"
   ]
  },
  {
   "cell_type": "code",
   "execution_count": 34,
   "id": "9f7ab0ad",
   "metadata": {},
   "outputs": [],
   "source": [
    "category_counts = one_hot_encoded.sum()\n",
    "\n",
    "total_samples = one_hot_encoded.sum().sum()\n",
    "\n",
    "class_weights = total_samples / (4 * category_counts)\n",
    "\n",
    "class_weight_dict = {i: class_weights[i] for i in range(len(class_weights))}"
   ]
  },
  {
   "cell_type": "code",
   "execution_count": 35,
   "id": "1749c9c3",
   "metadata": {},
   "outputs": [
    {
     "data": {
      "text/plain": [
       "{0: 0.47349570200573066,\n",
       " 1: 0.783175355450237,\n",
       " 2: 2.516497461928934,\n",
       " 3: 4.67688679245283}"
      ]
     },
     "execution_count": 35,
     "metadata": {},
     "output_type": "execute_result"
    }
   ],
   "source": [
    "class_weight_dict"
   ]
  },
  {
   "cell_type": "markdown",
   "id": "e6dea018",
   "metadata": {},
   "source": [
    "## Hybrid Model 1"
   ]
  },
  {
   "cell_type": "markdown",
   "id": "e082eb18",
   "metadata": {},
   "source": [
    "Model Architecture\n",
    "- One CNN layer\n",
    "- Three RNN LSTM layers, with verying units through out layers and activations as desired\n",
    "- Also, added dropouts and BatchNormalization"
   ]
  },
  {
   "cell_type": "code",
   "execution_count": 43,
   "id": "adc063a7",
   "metadata": {},
   "outputs": [],
   "source": [
    "# Define CNN input\n",
    "cnn_input = Input(shape=(9, 64, 64, 1))\n",
    "\n",
    "# CNN Model\n",
    "cnn = Conv3D(filters=32, kernel_size=(3, 3, 3), activation='relu', padding='same')(cnn_input)\n",
    "cnn = BatchNormalization()(cnn)\n",
    "cnn = MaxPooling3D(pool_size=(2, 2, 2))(cnn)\n",
    "cnn = Dropout(0.20)(cnn)\n",
    "cnn = Flatten()(cnn)\n",
    "cnn_output = Dense(32, activation='relu')(cnn)\n",
    "\n",
    "# Define RNN input\n",
    "rnn_input = Input(shape=(7, 7))\n",
    "\n",
    "# RNN Model\n",
    "rnn = LSTM(128, return_sequences=True, activation='relu')(rnn_input)\n",
    "rnn = BatchNormalization()(rnn)\n",
    "rnn = Dropout(0.30)(rnn)\n",
    "rnn = LSTM(64, return_sequences=True, activation='relu')(rnn)\n",
    "rnn = BatchNormalization()(rnn)\n",
    "rnn = Dropout(0.20)(rnn)\n",
    "rnn = LSTM(32, return_sequences=False, activation='relu')(rnn)\n",
    "rnn = BatchNormalization()(rnn)\n",
    "rnn = Dropout(0.10)(rnn)\n",
    "rnn_output = Dense(24, activation='relu')(rnn)\n",
    "\n",
    "# Concatenate CNN and RNN outputs\n",
    "concatenated = Concatenate()([cnn_output, rnn_output])\n",
    "\n",
    "# Final dense layers\n",
    "final_dense = Dense(32, activation='relu')(concatenated)\n",
    "final_output = Dense(4, activation='softmax')(final_dense)\n",
    "\n",
    "# Model assembly\n",
    "model = Model(inputs=[cnn_input, rnn_input], outputs=final_output)\n",
    "\n",
    "# Compile the model\n",
    "model.compile(optimizer='adam', loss='categorical_crossentropy', metrics=['accuracy'])"
   ]
  },
  {
   "cell_type": "code",
   "execution_count": 44,
   "id": "e1ebc605",
   "metadata": {},
   "outputs": [
    {
     "data": {
      "text/html": [
       "<pre style=\"white-space:pre;overflow-x:auto;line-height:normal;font-family:Menlo,'DejaVu Sans Mono',consolas,'Courier New',monospace\"><span style=\"font-weight: bold\">Model: \"functional_3\"</span>\n",
       "</pre>\n"
      ],
      "text/plain": [
       "\u001b[1mModel: \"functional_3\"\u001b[0m\n"
      ]
     },
     "metadata": {},
     "output_type": "display_data"
    },
    {
     "data": {
      "text/html": [
       "<pre style=\"white-space:pre;overflow-x:auto;line-height:normal;font-family:Menlo,'DejaVu Sans Mono',consolas,'Courier New',monospace\">┏━━━━━━━━━━━━━━━━━━━━━━━━━━━━━━━┳━━━━━━━━━━━━━━━━━━━━━━━━━━━┳━━━━━━━━━━━━━━━━━┳━━━━━━━━━━━━━━━━━━━━━━━━━━━━┓\n",
       "┃<span style=\"font-weight: bold\"> Layer (type)                  </span>┃<span style=\"font-weight: bold\"> Output Shape              </span>┃<span style=\"font-weight: bold\">         Param # </span>┃<span style=\"font-weight: bold\"> Connected to               </span>┃\n",
       "┡━━━━━━━━━━━━━━━━━━━━━━━━━━━━━━━╇━━━━━━━━━━━━━━━━━━━━━━━━━━━╇━━━━━━━━━━━━━━━━━╇━━━━━━━━━━━━━━━━━━━━━━━━━━━━┩\n",
       "│ input_layer_3 (<span style=\"color: #0087ff; text-decoration-color: #0087ff\">InputLayer</span>)    │ (<span style=\"color: #00d7ff; text-decoration-color: #00d7ff\">None</span>, <span style=\"color: #00af00; text-decoration-color: #00af00\">7</span>, <span style=\"color: #00af00; text-decoration-color: #00af00\">7</span>)              │               <span style=\"color: #00af00; text-decoration-color: #00af00\">0</span> │ -                          │\n",
       "├───────────────────────────────┼───────────────────────────┼─────────────────┼────────────────────────────┤\n",
       "│ lstm_3 (<span style=\"color: #0087ff; text-decoration-color: #0087ff\">LSTM</span>)                 │ (<span style=\"color: #00d7ff; text-decoration-color: #00d7ff\">None</span>, <span style=\"color: #00af00; text-decoration-color: #00af00\">7</span>, <span style=\"color: #00af00; text-decoration-color: #00af00\">128</span>)            │          <span style=\"color: #00af00; text-decoration-color: #00af00\">69,632</span> │ input_layer_3[<span style=\"color: #00af00; text-decoration-color: #00af00\">0</span>][<span style=\"color: #00af00; text-decoration-color: #00af00\">0</span>]        │\n",
       "├───────────────────────────────┼───────────────────────────┼─────────────────┼────────────────────────────┤\n",
       "│ batch_normalization_5         │ (<span style=\"color: #00d7ff; text-decoration-color: #00d7ff\">None</span>, <span style=\"color: #00af00; text-decoration-color: #00af00\">7</span>, <span style=\"color: #00af00; text-decoration-color: #00af00\">128</span>)            │             <span style=\"color: #00af00; text-decoration-color: #00af00\">512</span> │ lstm_3[<span style=\"color: #00af00; text-decoration-color: #00af00\">0</span>][<span style=\"color: #00af00; text-decoration-color: #00af00\">0</span>]               │\n",
       "│ (<span style=\"color: #0087ff; text-decoration-color: #0087ff\">BatchNormalization</span>)          │                           │                 │                            │\n",
       "├───────────────────────────────┼───────────────────────────┼─────────────────┼────────────────────────────┤\n",
       "│ dropout_1 (<span style=\"color: #0087ff; text-decoration-color: #0087ff\">Dropout</span>)           │ (<span style=\"color: #00d7ff; text-decoration-color: #00d7ff\">None</span>, <span style=\"color: #00af00; text-decoration-color: #00af00\">7</span>, <span style=\"color: #00af00; text-decoration-color: #00af00\">128</span>)            │               <span style=\"color: #00af00; text-decoration-color: #00af00\">0</span> │ batch_normalization_5[<span style=\"color: #00af00; text-decoration-color: #00af00\">0</span>][<span style=\"color: #00af00; text-decoration-color: #00af00\">…</span> │\n",
       "├───────────────────────────────┼───────────────────────────┼─────────────────┼────────────────────────────┤\n",
       "│ input_layer_2 (<span style=\"color: #0087ff; text-decoration-color: #0087ff\">InputLayer</span>)    │ (<span style=\"color: #00d7ff; text-decoration-color: #00d7ff\">None</span>, <span style=\"color: #00af00; text-decoration-color: #00af00\">9</span>, <span style=\"color: #00af00; text-decoration-color: #00af00\">64</span>, <span style=\"color: #00af00; text-decoration-color: #00af00\">64</span>, <span style=\"color: #00af00; text-decoration-color: #00af00\">1</span>)      │               <span style=\"color: #00af00; text-decoration-color: #00af00\">0</span> │ -                          │\n",
       "├───────────────────────────────┼───────────────────────────┼─────────────────┼────────────────────────────┤\n",
       "│ lstm_4 (<span style=\"color: #0087ff; text-decoration-color: #0087ff\">LSTM</span>)                 │ (<span style=\"color: #00d7ff; text-decoration-color: #00d7ff\">None</span>, <span style=\"color: #00af00; text-decoration-color: #00af00\">7</span>, <span style=\"color: #00af00; text-decoration-color: #00af00\">64</span>)             │          <span style=\"color: #00af00; text-decoration-color: #00af00\">49,408</span> │ dropout_1[<span style=\"color: #00af00; text-decoration-color: #00af00\">0</span>][<span style=\"color: #00af00; text-decoration-color: #00af00\">0</span>]            │\n",
       "├───────────────────────────────┼───────────────────────────┼─────────────────┼────────────────────────────┤\n",
       "│ conv3d_1 (<span style=\"color: #0087ff; text-decoration-color: #0087ff\">Conv3D</span>)             │ (<span style=\"color: #00d7ff; text-decoration-color: #00d7ff\">None</span>, <span style=\"color: #00af00; text-decoration-color: #00af00\">9</span>, <span style=\"color: #00af00; text-decoration-color: #00af00\">64</span>, <span style=\"color: #00af00; text-decoration-color: #00af00\">64</span>, <span style=\"color: #00af00; text-decoration-color: #00af00\">32</span>)     │             <span style=\"color: #00af00; text-decoration-color: #00af00\">896</span> │ input_layer_2[<span style=\"color: #00af00; text-decoration-color: #00af00\">0</span>][<span style=\"color: #00af00; text-decoration-color: #00af00\">0</span>]        │\n",
       "├───────────────────────────────┼───────────────────────────┼─────────────────┼────────────────────────────┤\n",
       "│ batch_normalization_6         │ (<span style=\"color: #00d7ff; text-decoration-color: #00d7ff\">None</span>, <span style=\"color: #00af00; text-decoration-color: #00af00\">7</span>, <span style=\"color: #00af00; text-decoration-color: #00af00\">64</span>)             │             <span style=\"color: #00af00; text-decoration-color: #00af00\">256</span> │ lstm_4[<span style=\"color: #00af00; text-decoration-color: #00af00\">0</span>][<span style=\"color: #00af00; text-decoration-color: #00af00\">0</span>]               │\n",
       "│ (<span style=\"color: #0087ff; text-decoration-color: #0087ff\">BatchNormalization</span>)          │                           │                 │                            │\n",
       "├───────────────────────────────┼───────────────────────────┼─────────────────┼────────────────────────────┤\n",
       "│ batch_normalization_4         │ (<span style=\"color: #00d7ff; text-decoration-color: #00d7ff\">None</span>, <span style=\"color: #00af00; text-decoration-color: #00af00\">9</span>, <span style=\"color: #00af00; text-decoration-color: #00af00\">64</span>, <span style=\"color: #00af00; text-decoration-color: #00af00\">64</span>, <span style=\"color: #00af00; text-decoration-color: #00af00\">32</span>)     │             <span style=\"color: #00af00; text-decoration-color: #00af00\">128</span> │ conv3d_1[<span style=\"color: #00af00; text-decoration-color: #00af00\">0</span>][<span style=\"color: #00af00; text-decoration-color: #00af00\">0</span>]             │\n",
       "│ (<span style=\"color: #0087ff; text-decoration-color: #0087ff\">BatchNormalization</span>)          │                           │                 │                            │\n",
       "├───────────────────────────────┼───────────────────────────┼─────────────────┼────────────────────────────┤\n",
       "│ dropout_2 (<span style=\"color: #0087ff; text-decoration-color: #0087ff\">Dropout</span>)           │ (<span style=\"color: #00d7ff; text-decoration-color: #00d7ff\">None</span>, <span style=\"color: #00af00; text-decoration-color: #00af00\">7</span>, <span style=\"color: #00af00; text-decoration-color: #00af00\">64</span>)             │               <span style=\"color: #00af00; text-decoration-color: #00af00\">0</span> │ batch_normalization_6[<span style=\"color: #00af00; text-decoration-color: #00af00\">0</span>][<span style=\"color: #00af00; text-decoration-color: #00af00\">…</span> │\n",
       "├───────────────────────────────┼───────────────────────────┼─────────────────┼────────────────────────────┤\n",
       "│ max_pooling3d_1               │ (<span style=\"color: #00d7ff; text-decoration-color: #00d7ff\">None</span>, <span style=\"color: #00af00; text-decoration-color: #00af00\">4</span>, <span style=\"color: #00af00; text-decoration-color: #00af00\">32</span>, <span style=\"color: #00af00; text-decoration-color: #00af00\">32</span>, <span style=\"color: #00af00; text-decoration-color: #00af00\">32</span>)     │               <span style=\"color: #00af00; text-decoration-color: #00af00\">0</span> │ batch_normalization_4[<span style=\"color: #00af00; text-decoration-color: #00af00\">0</span>][<span style=\"color: #00af00; text-decoration-color: #00af00\">…</span> │\n",
       "│ (<span style=\"color: #0087ff; text-decoration-color: #0087ff\">MaxPooling3D</span>)                │                           │                 │                            │\n",
       "├───────────────────────────────┼───────────────────────────┼─────────────────┼────────────────────────────┤\n",
       "│ lstm_5 (<span style=\"color: #0087ff; text-decoration-color: #0087ff\">LSTM</span>)                 │ (<span style=\"color: #00d7ff; text-decoration-color: #00d7ff\">None</span>, <span style=\"color: #00af00; text-decoration-color: #00af00\">32</span>)                │          <span style=\"color: #00af00; text-decoration-color: #00af00\">12,416</span> │ dropout_2[<span style=\"color: #00af00; text-decoration-color: #00af00\">0</span>][<span style=\"color: #00af00; text-decoration-color: #00af00\">0</span>]            │\n",
       "├───────────────────────────────┼───────────────────────────┼─────────────────┼────────────────────────────┤\n",
       "│ dropout (<span style=\"color: #0087ff; text-decoration-color: #0087ff\">Dropout</span>)             │ (<span style=\"color: #00d7ff; text-decoration-color: #00d7ff\">None</span>, <span style=\"color: #00af00; text-decoration-color: #00af00\">4</span>, <span style=\"color: #00af00; text-decoration-color: #00af00\">32</span>, <span style=\"color: #00af00; text-decoration-color: #00af00\">32</span>, <span style=\"color: #00af00; text-decoration-color: #00af00\">32</span>)     │               <span style=\"color: #00af00; text-decoration-color: #00af00\">0</span> │ max_pooling3d_1[<span style=\"color: #00af00; text-decoration-color: #00af00\">0</span>][<span style=\"color: #00af00; text-decoration-color: #00af00\">0</span>]      │\n",
       "├───────────────────────────────┼───────────────────────────┼─────────────────┼────────────────────────────┤\n",
       "│ batch_normalization_7         │ (<span style=\"color: #00d7ff; text-decoration-color: #00d7ff\">None</span>, <span style=\"color: #00af00; text-decoration-color: #00af00\">32</span>)                │             <span style=\"color: #00af00; text-decoration-color: #00af00\">128</span> │ lstm_5[<span style=\"color: #00af00; text-decoration-color: #00af00\">0</span>][<span style=\"color: #00af00; text-decoration-color: #00af00\">0</span>]               │\n",
       "│ (<span style=\"color: #0087ff; text-decoration-color: #0087ff\">BatchNormalization</span>)          │                           │                 │                            │\n",
       "├───────────────────────────────┼───────────────────────────┼─────────────────┼────────────────────────────┤\n",
       "│ flatten_1 (<span style=\"color: #0087ff; text-decoration-color: #0087ff\">Flatten</span>)           │ (<span style=\"color: #00d7ff; text-decoration-color: #00d7ff\">None</span>, <span style=\"color: #00af00; text-decoration-color: #00af00\">131072</span>)            │               <span style=\"color: #00af00; text-decoration-color: #00af00\">0</span> │ dropout[<span style=\"color: #00af00; text-decoration-color: #00af00\">0</span>][<span style=\"color: #00af00; text-decoration-color: #00af00\">0</span>]              │\n",
       "├───────────────────────────────┼───────────────────────────┼─────────────────┼────────────────────────────┤\n",
       "│ dropout_3 (<span style=\"color: #0087ff; text-decoration-color: #0087ff\">Dropout</span>)           │ (<span style=\"color: #00d7ff; text-decoration-color: #00d7ff\">None</span>, <span style=\"color: #00af00; text-decoration-color: #00af00\">32</span>)                │               <span style=\"color: #00af00; text-decoration-color: #00af00\">0</span> │ batch_normalization_7[<span style=\"color: #00af00; text-decoration-color: #00af00\">0</span>][<span style=\"color: #00af00; text-decoration-color: #00af00\">…</span> │\n",
       "├───────────────────────────────┼───────────────────────────┼─────────────────┼────────────────────────────┤\n",
       "│ dense_4 (<span style=\"color: #0087ff; text-decoration-color: #0087ff\">Dense</span>)               │ (<span style=\"color: #00d7ff; text-decoration-color: #00d7ff\">None</span>, <span style=\"color: #00af00; text-decoration-color: #00af00\">32</span>)                │       <span style=\"color: #00af00; text-decoration-color: #00af00\">4,194,336</span> │ flatten_1[<span style=\"color: #00af00; text-decoration-color: #00af00\">0</span>][<span style=\"color: #00af00; text-decoration-color: #00af00\">0</span>]            │\n",
       "├───────────────────────────────┼───────────────────────────┼─────────────────┼────────────────────────────┤\n",
       "│ dense_5 (<span style=\"color: #0087ff; text-decoration-color: #0087ff\">Dense</span>)               │ (<span style=\"color: #00d7ff; text-decoration-color: #00d7ff\">None</span>, <span style=\"color: #00af00; text-decoration-color: #00af00\">24</span>)                │             <span style=\"color: #00af00; text-decoration-color: #00af00\">792</span> │ dropout_3[<span style=\"color: #00af00; text-decoration-color: #00af00\">0</span>][<span style=\"color: #00af00; text-decoration-color: #00af00\">0</span>]            │\n",
       "├───────────────────────────────┼───────────────────────────┼─────────────────┼────────────────────────────┤\n",
       "│ concatenate_1 (<span style=\"color: #0087ff; text-decoration-color: #0087ff\">Concatenate</span>)   │ (<span style=\"color: #00d7ff; text-decoration-color: #00d7ff\">None</span>, <span style=\"color: #00af00; text-decoration-color: #00af00\">56</span>)                │               <span style=\"color: #00af00; text-decoration-color: #00af00\">0</span> │ dense_4[<span style=\"color: #00af00; text-decoration-color: #00af00\">0</span>][<span style=\"color: #00af00; text-decoration-color: #00af00\">0</span>],             │\n",
       "│                               │                           │                 │ dense_5[<span style=\"color: #00af00; text-decoration-color: #00af00\">0</span>][<span style=\"color: #00af00; text-decoration-color: #00af00\">0</span>]              │\n",
       "├───────────────────────────────┼───────────────────────────┼─────────────────┼────────────────────────────┤\n",
       "│ dense_6 (<span style=\"color: #0087ff; text-decoration-color: #0087ff\">Dense</span>)               │ (<span style=\"color: #00d7ff; text-decoration-color: #00d7ff\">None</span>, <span style=\"color: #00af00; text-decoration-color: #00af00\">32</span>)                │           <span style=\"color: #00af00; text-decoration-color: #00af00\">1,824</span> │ concatenate_1[<span style=\"color: #00af00; text-decoration-color: #00af00\">0</span>][<span style=\"color: #00af00; text-decoration-color: #00af00\">0</span>]        │\n",
       "├───────────────────────────────┼───────────────────────────┼─────────────────┼────────────────────────────┤\n",
       "│ dense_7 (<span style=\"color: #0087ff; text-decoration-color: #0087ff\">Dense</span>)               │ (<span style=\"color: #00d7ff; text-decoration-color: #00d7ff\">None</span>, <span style=\"color: #00af00; text-decoration-color: #00af00\">4</span>)                 │             <span style=\"color: #00af00; text-decoration-color: #00af00\">132</span> │ dense_6[<span style=\"color: #00af00; text-decoration-color: #00af00\">0</span>][<span style=\"color: #00af00; text-decoration-color: #00af00\">0</span>]              │\n",
       "└───────────────────────────────┴───────────────────────────┴─────────────────┴────────────────────────────┘\n",
       "</pre>\n"
      ],
      "text/plain": [
       "┏━━━━━━━━━━━━━━━━━━━━━━━━━━━━━━━┳━━━━━━━━━━━━━━━━━━━━━━━━━━━┳━━━━━━━━━━━━━━━━━┳━━━━━━━━━━━━━━━━━━━━━━━━━━━━┓\n",
       "┃\u001b[1m \u001b[0m\u001b[1mLayer (type)                 \u001b[0m\u001b[1m \u001b[0m┃\u001b[1m \u001b[0m\u001b[1mOutput Shape             \u001b[0m\u001b[1m \u001b[0m┃\u001b[1m \u001b[0m\u001b[1m        Param #\u001b[0m\u001b[1m \u001b[0m┃\u001b[1m \u001b[0m\u001b[1mConnected to              \u001b[0m\u001b[1m \u001b[0m┃\n",
       "┡━━━━━━━━━━━━━━━━━━━━━━━━━━━━━━━╇━━━━━━━━━━━━━━━━━━━━━━━━━━━╇━━━━━━━━━━━━━━━━━╇━━━━━━━━━━━━━━━━━━━━━━━━━━━━┩\n",
       "│ input_layer_3 (\u001b[38;5;33mInputLayer\u001b[0m)    │ (\u001b[38;5;45mNone\u001b[0m, \u001b[38;5;34m7\u001b[0m, \u001b[38;5;34m7\u001b[0m)              │               \u001b[38;5;34m0\u001b[0m │ -                          │\n",
       "├───────────────────────────────┼───────────────────────────┼─────────────────┼────────────────────────────┤\n",
       "│ lstm_3 (\u001b[38;5;33mLSTM\u001b[0m)                 │ (\u001b[38;5;45mNone\u001b[0m, \u001b[38;5;34m7\u001b[0m, \u001b[38;5;34m128\u001b[0m)            │          \u001b[38;5;34m69,632\u001b[0m │ input_layer_3[\u001b[38;5;34m0\u001b[0m][\u001b[38;5;34m0\u001b[0m]        │\n",
       "├───────────────────────────────┼───────────────────────────┼─────────────────┼────────────────────────────┤\n",
       "│ batch_normalization_5         │ (\u001b[38;5;45mNone\u001b[0m, \u001b[38;5;34m7\u001b[0m, \u001b[38;5;34m128\u001b[0m)            │             \u001b[38;5;34m512\u001b[0m │ lstm_3[\u001b[38;5;34m0\u001b[0m][\u001b[38;5;34m0\u001b[0m]               │\n",
       "│ (\u001b[38;5;33mBatchNormalization\u001b[0m)          │                           │                 │                            │\n",
       "├───────────────────────────────┼───────────────────────────┼─────────────────┼────────────────────────────┤\n",
       "│ dropout_1 (\u001b[38;5;33mDropout\u001b[0m)           │ (\u001b[38;5;45mNone\u001b[0m, \u001b[38;5;34m7\u001b[0m, \u001b[38;5;34m128\u001b[0m)            │               \u001b[38;5;34m0\u001b[0m │ batch_normalization_5[\u001b[38;5;34m0\u001b[0m][\u001b[38;5;34m…\u001b[0m │\n",
       "├───────────────────────────────┼───────────────────────────┼─────────────────┼────────────────────────────┤\n",
       "│ input_layer_2 (\u001b[38;5;33mInputLayer\u001b[0m)    │ (\u001b[38;5;45mNone\u001b[0m, \u001b[38;5;34m9\u001b[0m, \u001b[38;5;34m64\u001b[0m, \u001b[38;5;34m64\u001b[0m, \u001b[38;5;34m1\u001b[0m)      │               \u001b[38;5;34m0\u001b[0m │ -                          │\n",
       "├───────────────────────────────┼───────────────────────────┼─────────────────┼────────────────────────────┤\n",
       "│ lstm_4 (\u001b[38;5;33mLSTM\u001b[0m)                 │ (\u001b[38;5;45mNone\u001b[0m, \u001b[38;5;34m7\u001b[0m, \u001b[38;5;34m64\u001b[0m)             │          \u001b[38;5;34m49,408\u001b[0m │ dropout_1[\u001b[38;5;34m0\u001b[0m][\u001b[38;5;34m0\u001b[0m]            │\n",
       "├───────────────────────────────┼───────────────────────────┼─────────────────┼────────────────────────────┤\n",
       "│ conv3d_1 (\u001b[38;5;33mConv3D\u001b[0m)             │ (\u001b[38;5;45mNone\u001b[0m, \u001b[38;5;34m9\u001b[0m, \u001b[38;5;34m64\u001b[0m, \u001b[38;5;34m64\u001b[0m, \u001b[38;5;34m32\u001b[0m)     │             \u001b[38;5;34m896\u001b[0m │ input_layer_2[\u001b[38;5;34m0\u001b[0m][\u001b[38;5;34m0\u001b[0m]        │\n",
       "├───────────────────────────────┼───────────────────────────┼─────────────────┼────────────────────────────┤\n",
       "│ batch_normalization_6         │ (\u001b[38;5;45mNone\u001b[0m, \u001b[38;5;34m7\u001b[0m, \u001b[38;5;34m64\u001b[0m)             │             \u001b[38;5;34m256\u001b[0m │ lstm_4[\u001b[38;5;34m0\u001b[0m][\u001b[38;5;34m0\u001b[0m]               │\n",
       "│ (\u001b[38;5;33mBatchNormalization\u001b[0m)          │                           │                 │                            │\n",
       "├───────────────────────────────┼───────────────────────────┼─────────────────┼────────────────────────────┤\n",
       "│ batch_normalization_4         │ (\u001b[38;5;45mNone\u001b[0m, \u001b[38;5;34m9\u001b[0m, \u001b[38;5;34m64\u001b[0m, \u001b[38;5;34m64\u001b[0m, \u001b[38;5;34m32\u001b[0m)     │             \u001b[38;5;34m128\u001b[0m │ conv3d_1[\u001b[38;5;34m0\u001b[0m][\u001b[38;5;34m0\u001b[0m]             │\n",
       "│ (\u001b[38;5;33mBatchNormalization\u001b[0m)          │                           │                 │                            │\n",
       "├───────────────────────────────┼───────────────────────────┼─────────────────┼────────────────────────────┤\n",
       "│ dropout_2 (\u001b[38;5;33mDropout\u001b[0m)           │ (\u001b[38;5;45mNone\u001b[0m, \u001b[38;5;34m7\u001b[0m, \u001b[38;5;34m64\u001b[0m)             │               \u001b[38;5;34m0\u001b[0m │ batch_normalization_6[\u001b[38;5;34m0\u001b[0m][\u001b[38;5;34m…\u001b[0m │\n",
       "├───────────────────────────────┼───────────────────────────┼─────────────────┼────────────────────────────┤\n",
       "│ max_pooling3d_1               │ (\u001b[38;5;45mNone\u001b[0m, \u001b[38;5;34m4\u001b[0m, \u001b[38;5;34m32\u001b[0m, \u001b[38;5;34m32\u001b[0m, \u001b[38;5;34m32\u001b[0m)     │               \u001b[38;5;34m0\u001b[0m │ batch_normalization_4[\u001b[38;5;34m0\u001b[0m][\u001b[38;5;34m…\u001b[0m │\n",
       "│ (\u001b[38;5;33mMaxPooling3D\u001b[0m)                │                           │                 │                            │\n",
       "├───────────────────────────────┼───────────────────────────┼─────────────────┼────────────────────────────┤\n",
       "│ lstm_5 (\u001b[38;5;33mLSTM\u001b[0m)                 │ (\u001b[38;5;45mNone\u001b[0m, \u001b[38;5;34m32\u001b[0m)                │          \u001b[38;5;34m12,416\u001b[0m │ dropout_2[\u001b[38;5;34m0\u001b[0m][\u001b[38;5;34m0\u001b[0m]            │\n",
       "├───────────────────────────────┼───────────────────────────┼─────────────────┼────────────────────────────┤\n",
       "│ dropout (\u001b[38;5;33mDropout\u001b[0m)             │ (\u001b[38;5;45mNone\u001b[0m, \u001b[38;5;34m4\u001b[0m, \u001b[38;5;34m32\u001b[0m, \u001b[38;5;34m32\u001b[0m, \u001b[38;5;34m32\u001b[0m)     │               \u001b[38;5;34m0\u001b[0m │ max_pooling3d_1[\u001b[38;5;34m0\u001b[0m][\u001b[38;5;34m0\u001b[0m]      │\n",
       "├───────────────────────────────┼───────────────────────────┼─────────────────┼────────────────────────────┤\n",
       "│ batch_normalization_7         │ (\u001b[38;5;45mNone\u001b[0m, \u001b[38;5;34m32\u001b[0m)                │             \u001b[38;5;34m128\u001b[0m │ lstm_5[\u001b[38;5;34m0\u001b[0m][\u001b[38;5;34m0\u001b[0m]               │\n",
       "│ (\u001b[38;5;33mBatchNormalization\u001b[0m)          │                           │                 │                            │\n",
       "├───────────────────────────────┼───────────────────────────┼─────────────────┼────────────────────────────┤\n",
       "│ flatten_1 (\u001b[38;5;33mFlatten\u001b[0m)           │ (\u001b[38;5;45mNone\u001b[0m, \u001b[38;5;34m131072\u001b[0m)            │               \u001b[38;5;34m0\u001b[0m │ dropout[\u001b[38;5;34m0\u001b[0m][\u001b[38;5;34m0\u001b[0m]              │\n",
       "├───────────────────────────────┼───────────────────────────┼─────────────────┼────────────────────────────┤\n",
       "│ dropout_3 (\u001b[38;5;33mDropout\u001b[0m)           │ (\u001b[38;5;45mNone\u001b[0m, \u001b[38;5;34m32\u001b[0m)                │               \u001b[38;5;34m0\u001b[0m │ batch_normalization_7[\u001b[38;5;34m0\u001b[0m][\u001b[38;5;34m…\u001b[0m │\n",
       "├───────────────────────────────┼───────────────────────────┼─────────────────┼────────────────────────────┤\n",
       "│ dense_4 (\u001b[38;5;33mDense\u001b[0m)               │ (\u001b[38;5;45mNone\u001b[0m, \u001b[38;5;34m32\u001b[0m)                │       \u001b[38;5;34m4,194,336\u001b[0m │ flatten_1[\u001b[38;5;34m0\u001b[0m][\u001b[38;5;34m0\u001b[0m]            │\n",
       "├───────────────────────────────┼───────────────────────────┼─────────────────┼────────────────────────────┤\n",
       "│ dense_5 (\u001b[38;5;33mDense\u001b[0m)               │ (\u001b[38;5;45mNone\u001b[0m, \u001b[38;5;34m24\u001b[0m)                │             \u001b[38;5;34m792\u001b[0m │ dropout_3[\u001b[38;5;34m0\u001b[0m][\u001b[38;5;34m0\u001b[0m]            │\n",
       "├───────────────────────────────┼───────────────────────────┼─────────────────┼────────────────────────────┤\n",
       "│ concatenate_1 (\u001b[38;5;33mConcatenate\u001b[0m)   │ (\u001b[38;5;45mNone\u001b[0m, \u001b[38;5;34m56\u001b[0m)                │               \u001b[38;5;34m0\u001b[0m │ dense_4[\u001b[38;5;34m0\u001b[0m][\u001b[38;5;34m0\u001b[0m],             │\n",
       "│                               │                           │                 │ dense_5[\u001b[38;5;34m0\u001b[0m][\u001b[38;5;34m0\u001b[0m]              │\n",
       "├───────────────────────────────┼───────────────────────────┼─────────────────┼────────────────────────────┤\n",
       "│ dense_6 (\u001b[38;5;33mDense\u001b[0m)               │ (\u001b[38;5;45mNone\u001b[0m, \u001b[38;5;34m32\u001b[0m)                │           \u001b[38;5;34m1,824\u001b[0m │ concatenate_1[\u001b[38;5;34m0\u001b[0m][\u001b[38;5;34m0\u001b[0m]        │\n",
       "├───────────────────────────────┼───────────────────────────┼─────────────────┼────────────────────────────┤\n",
       "│ dense_7 (\u001b[38;5;33mDense\u001b[0m)               │ (\u001b[38;5;45mNone\u001b[0m, \u001b[38;5;34m4\u001b[0m)                 │             \u001b[38;5;34m132\u001b[0m │ dense_6[\u001b[38;5;34m0\u001b[0m][\u001b[38;5;34m0\u001b[0m]              │\n",
       "└───────────────────────────────┴───────────────────────────┴─────────────────┴────────────────────────────┘\n"
      ]
     },
     "metadata": {},
     "output_type": "display_data"
    },
    {
     "data": {
      "text/html": [
       "<pre style=\"white-space:pre;overflow-x:auto;line-height:normal;font-family:Menlo,'DejaVu Sans Mono',consolas,'Courier New',monospace\"><span style=\"font-weight: bold\"> Total params: </span><span style=\"color: #00af00; text-decoration-color: #00af00\">4,330,460</span> (16.52 MB)\n",
       "</pre>\n"
      ],
      "text/plain": [
       "\u001b[1m Total params: \u001b[0m\u001b[38;5;34m4,330,460\u001b[0m (16.52 MB)\n"
      ]
     },
     "metadata": {},
     "output_type": "display_data"
    },
    {
     "data": {
      "text/html": [
       "<pre style=\"white-space:pre;overflow-x:auto;line-height:normal;font-family:Menlo,'DejaVu Sans Mono',consolas,'Courier New',monospace\"><span style=\"font-weight: bold\"> Trainable params: </span><span style=\"color: #00af00; text-decoration-color: #00af00\">4,329,948</span> (16.52 MB)\n",
       "</pre>\n"
      ],
      "text/plain": [
       "\u001b[1m Trainable params: \u001b[0m\u001b[38;5;34m4,329,948\u001b[0m (16.52 MB)\n"
      ]
     },
     "metadata": {},
     "output_type": "display_data"
    },
    {
     "data": {
      "text/html": [
       "<pre style=\"white-space:pre;overflow-x:auto;line-height:normal;font-family:Menlo,'DejaVu Sans Mono',consolas,'Courier New',monospace\"><span style=\"font-weight: bold\"> Non-trainable params: </span><span style=\"color: #00af00; text-decoration-color: #00af00\">512</span> (2.00 KB)\n",
       "</pre>\n"
      ],
      "text/plain": [
       "\u001b[1m Non-trainable params: \u001b[0m\u001b[38;5;34m512\u001b[0m (2.00 KB)\n"
      ]
     },
     "metadata": {},
     "output_type": "display_data"
    }
   ],
   "source": [
    "model.summary()"
   ]
  },
  {
   "cell_type": "markdown",
   "id": "c11005c0",
   "metadata": {},
   "source": [
    "**Model Fitting**"
   ]
  },
  {
   "cell_type": "code",
   "execution_count": 45,
   "id": "b172c07a",
   "metadata": {},
   "outputs": [
    {
     "name": "stdout",
     "output_type": "stream",
     "text": [
      "Epoch 1/30\n",
      "\u001b[1m31/31\u001b[0m \u001b[32m━━━━━━━━━━━━━━━━━━━━\u001b[0m\u001b[37m\u001b[0m \u001b[1m21s\u001b[0m 435ms/step - accuracy: 0.3398 - loss: 7.3944 - val_accuracy: 0.0644 - val_loss: 1.3902\n",
      "Epoch 2/30\n",
      "\u001b[1m31/31\u001b[0m \u001b[32m━━━━━━━━━━━━━━━━━━━━\u001b[0m\u001b[37m\u001b[0m \u001b[1m13s\u001b[0m 404ms/step - accuracy: 0.3384 - loss: 1.3940 - val_accuracy: 0.0525 - val_loss: 1.3919\n",
      "Epoch 3/30\n",
      "\u001b[1m31/31\u001b[0m \u001b[32m━━━━━━━━━━━━━━━━━━━━\u001b[0m\u001b[37m\u001b[0m \u001b[1m15s\u001b[0m 474ms/step - accuracy: 0.2854 - loss: 1.4630 - val_accuracy: 0.0525 - val_loss: 1.3908\n",
      "Epoch 4/30\n",
      "\u001b[1m31/31\u001b[0m \u001b[32m━━━━━━━━━━━━━━━━━━━━\u001b[0m\u001b[37m\u001b[0m \u001b[1m13s\u001b[0m 419ms/step - accuracy: 0.2735 - loss: 1.3816 - val_accuracy: 0.1957 - val_loss: 1.3816\n",
      "Epoch 5/30\n",
      "\u001b[1m31/31\u001b[0m \u001b[32m━━━━━━━━━━━━━━━━━━━━\u001b[0m\u001b[37m\u001b[0m \u001b[1m13s\u001b[0m 409ms/step - accuracy: 0.3010 - loss: 1.4093 - val_accuracy: 0.2649 - val_loss: 1.3719\n",
      "Epoch 6/30\n",
      "\u001b[1m31/31\u001b[0m \u001b[32m━━━━━━━━━━━━━━━━━━━━\u001b[0m\u001b[37m\u001b[0m \u001b[1m12s\u001b[0m 401ms/step - accuracy: 0.2813 - loss: 1.3959 - val_accuracy: 0.2649 - val_loss: 1.3629\n",
      "Epoch 7/30\n",
      "\u001b[1m31/31\u001b[0m \u001b[32m━━━━━━━━━━━━━━━━━━━━\u001b[0m\u001b[37m\u001b[0m \u001b[1m13s\u001b[0m 416ms/step - accuracy: 0.2961 - loss: 1.2927 - val_accuracy: 0.2649 - val_loss: 1.3490\n",
      "Epoch 8/30\n",
      "\u001b[1m31/31\u001b[0m \u001b[32m━━━━━━━━━━━━━━━━━━━━\u001b[0m\u001b[37m\u001b[0m \u001b[1m13s\u001b[0m 426ms/step - accuracy: 0.2832 - loss: 1.2790 - val_accuracy: 0.2649 - val_loss: 1.3537\n",
      "Epoch 9/30\n",
      "\u001b[1m31/31\u001b[0m \u001b[32m━━━━━━━━━━━━━━━━━━━━\u001b[0m\u001b[37m\u001b[0m \u001b[1m13s\u001b[0m 430ms/step - accuracy: 0.3041 - loss: 1.4062 - val_accuracy: 0.2649 - val_loss: 1.3554\n",
      "Epoch 10/30\n",
      "\u001b[1m31/31\u001b[0m \u001b[32m━━━━━━━━━━━━━━━━━━━━\u001b[0m\u001b[37m\u001b[0m \u001b[1m14s\u001b[0m 440ms/step - accuracy: 0.3124 - loss: 1.3237 - val_accuracy: 0.2649 - val_loss: 1.3501\n",
      "Epoch 11/30\n",
      "\u001b[1m31/31\u001b[0m \u001b[32m━━━━━━━━━━━━━━━━━━━━\u001b[0m\u001b[37m\u001b[0m \u001b[1m14s\u001b[0m 438ms/step - accuracy: 0.3199 - loss: 1.3683 - val_accuracy: 0.2649 - val_loss: 1.3104\n",
      "Epoch 12/30\n",
      "\u001b[1m31/31\u001b[0m \u001b[32m━━━━━━━━━━━━━━━━━━━━\u001b[0m\u001b[37m\u001b[0m \u001b[1m14s\u001b[0m 449ms/step - accuracy: 0.3289 - loss: 1.3128 - val_accuracy: 0.2816 - val_loss: 1.3091\n",
      "Epoch 13/30\n",
      "\u001b[1m31/31\u001b[0m \u001b[32m━━━━━━━━━━━━━━━━━━━━\u001b[0m\u001b[37m\u001b[0m \u001b[1m12s\u001b[0m 387ms/step - accuracy: 0.3411 - loss: 1.3212 - val_accuracy: 0.2697 - val_loss: 1.3213\n",
      "Epoch 14/30\n",
      "\u001b[1m31/31\u001b[0m \u001b[32m━━━━━━━━━━━━━━━━━━━━\u001b[0m\u001b[37m\u001b[0m \u001b[1m12s\u001b[0m 402ms/step - accuracy: 0.3311 - loss: 1.2668 - val_accuracy: 0.3484 - val_loss: 1.2779\n",
      "Epoch 15/30\n",
      "\u001b[1m31/31\u001b[0m \u001b[32m━━━━━━━━━━━━━━━━━━━━\u001b[0m\u001b[37m\u001b[0m \u001b[1m23s\u001b[0m 481ms/step - accuracy: 0.3115 - loss: 1.2849 - val_accuracy: 0.3819 - val_loss: 1.3015\n",
      "Epoch 16/30\n",
      "\u001b[1m31/31\u001b[0m \u001b[32m━━━━━━━━━━━━━━━━━━━━\u001b[0m\u001b[37m\u001b[0m \u001b[1m14s\u001b[0m 441ms/step - accuracy: 0.3456 - loss: 1.2416 - val_accuracy: 0.3580 - val_loss: 1.2789\n",
      "Epoch 17/30\n",
      "\u001b[1m31/31\u001b[0m \u001b[32m━━━━━━━━━━━━━━━━━━━━\u001b[0m\u001b[37m\u001b[0m \u001b[1m12s\u001b[0m 395ms/step - accuracy: 0.3302 - loss: 1.2269 - val_accuracy: 0.2649 - val_loss: 1.3187\n",
      "Epoch 18/30\n",
      "\u001b[1m31/31\u001b[0m \u001b[32m━━━━━━━━━━━━━━━━━━━━\u001b[0m\u001b[37m\u001b[0m \u001b[1m12s\u001b[0m 392ms/step - accuracy: 0.3137 - loss: 1.2330 - val_accuracy: 0.2076 - val_loss: 1.4159\n",
      "Epoch 19/30\n",
      "\u001b[1m31/31\u001b[0m \u001b[32m━━━━━━━━━━━━━━━━━━━━\u001b[0m\u001b[37m\u001b[0m \u001b[1m14s\u001b[0m 445ms/step - accuracy: 0.3491 - loss: 1.2934 - val_accuracy: 0.3222 - val_loss: 1.2846\n",
      "Epoch 20/30\n",
      "\u001b[1m31/31\u001b[0m \u001b[32m━━━━━━━━━━━━━━━━━━━━\u001b[0m\u001b[37m\u001b[0m \u001b[1m12s\u001b[0m 394ms/step - accuracy: 0.3416 - loss: 1.2239 - val_accuracy: 0.2673 - val_loss: 1.3868\n",
      "Epoch 21/30\n",
      "\u001b[1m31/31\u001b[0m \u001b[32m━━━━━━━━━━━━━━━━━━━━\u001b[0m\u001b[37m\u001b[0m \u001b[1m12s\u001b[0m 397ms/step - accuracy: 0.3365 - loss: 1.1955 - val_accuracy: 0.3174 - val_loss: 1.3110\n",
      "Epoch 22/30\n",
      "\u001b[1m31/31\u001b[0m \u001b[32m━━━━━━━━━━━━━━━━━━━━\u001b[0m\u001b[37m\u001b[0m \u001b[1m14s\u001b[0m 442ms/step - accuracy: 0.3569 - loss: 1.2267 - val_accuracy: 0.3270 - val_loss: 1.2892\n",
      "Epoch 23/30\n",
      "\u001b[1m31/31\u001b[0m \u001b[32m━━━━━━━━━━━━━━━━━━━━\u001b[0m\u001b[37m\u001b[0m \u001b[1m12s\u001b[0m 400ms/step - accuracy: 0.3537 - loss: 1.2071 - val_accuracy: 0.3890 - val_loss: 1.2279\n",
      "Epoch 24/30\n",
      "\u001b[1m31/31\u001b[0m \u001b[32m━━━━━━━━━━━━━━━━━━━━\u001b[0m\u001b[37m\u001b[0m \u001b[1m12s\u001b[0m 393ms/step - accuracy: 0.3619 - loss: 1.1658 - val_accuracy: 0.3007 - val_loss: 1.3391\n",
      "Epoch 25/30\n",
      "\u001b[1m31/31\u001b[0m \u001b[32m━━━━━━━━━━━━━━━━━━━━\u001b[0m\u001b[37m\u001b[0m \u001b[1m14s\u001b[0m 453ms/step - accuracy: 0.3631 - loss: 1.2059 - val_accuracy: 0.2315 - val_loss: 1.3759\n",
      "Epoch 26/30\n",
      "\u001b[1m31/31\u001b[0m \u001b[32m━━━━━━━━━━━━━━━━━━━━\u001b[0m\u001b[37m\u001b[0m \u001b[1m12s\u001b[0m 392ms/step - accuracy: 0.3354 - loss: 1.2520 - val_accuracy: 0.1814 - val_loss: 1.5435\n",
      "Epoch 27/30\n",
      "\u001b[1m31/31\u001b[0m \u001b[32m━━━━━━━━━━━━━━━━━━━━\u001b[0m\u001b[37m\u001b[0m \u001b[1m12s\u001b[0m 382ms/step - accuracy: 0.3641 - loss: 1.1799 - val_accuracy: 0.3747 - val_loss: 1.2583\n",
      "Epoch 28/30\n",
      "\u001b[1m31/31\u001b[0m \u001b[32m━━━━━━━━━━━━━━━━━━━━\u001b[0m\u001b[37m\u001b[0m \u001b[1m14s\u001b[0m 442ms/step - accuracy: 0.3559 - loss: 1.1552 - val_accuracy: 0.3246 - val_loss: 1.3790\n",
      "Epoch 29/30\n",
      "\u001b[1m31/31\u001b[0m \u001b[32m━━━━━━━━━━━━━━━━━━━━\u001b[0m\u001b[37m\u001b[0m \u001b[1m13s\u001b[0m 430ms/step - accuracy: 0.3515 - loss: 1.1839 - val_accuracy: 0.2983 - val_loss: 1.2845\n",
      "Epoch 30/30\n",
      "\u001b[1m31/31\u001b[0m \u001b[32m━━━━━━━━━━━━━━━━━━━━\u001b[0m\u001b[37m\u001b[0m \u001b[1m12s\u001b[0m 383ms/step - accuracy: 0.3749 - loss: 1.2437 - val_accuracy: 0.2172 - val_loss: 1.5842\n"
     ]
    }
   ],
   "source": [
    "history = model.fit(\n",
    "    [train_video, train_meteo],\n",
    "    train_label,                \n",
    "    epochs=30,                 \n",
    "    batch_size=32,               \n",
    "    class_weight=class_weight_dict,\n",
    "    validation_split=0.3\n",
    ")"
   ]
  },
  {
   "cell_type": "markdown",
   "id": "4218315e",
   "metadata": {},
   "source": [
    "**Plots for training & validation accuracy & loss values**"
   ]
  },
  {
   "cell_type": "code",
   "execution_count": 46,
   "id": "d4df4790",
   "metadata": {},
   "outputs": [
    {
     "data": {
      "image/png": "[encoded data removed]",
      "text/plain": [
       "<Figure size 640x480 with 1 Axes>"
      ]
     },
     "metadata": {},
     "output_type": "display_data"
    },
    {
     "data": {
      "image/png": "[encoded data removed]",
      "text/plain": [
       "<Figure size 640x480 with 1 Axes>"
      ]
     },
     "metadata": {},
     "output_type": "display_data"
    }
   ],
   "source": [
    "# Plot training & validation accuracy values\n",
    "plt.plot(history.history['accuracy'])\n",
    "plt.plot(history.history['val_accuracy'])\n",
    "plt.title('Model accuracy')\n",
    "plt.ylabel('Accuracy')\n",
    "plt.xlabel('Epoch')\n",
    "plt.legend(['Train', 'Validation'], loc='upper left')\n",
    "plt.show()\n",
    "\n",
    "# Plot training & validation loss values\n",
    "plt.plot(history.history['loss'])\n",
    "plt.plot(history.history['val_loss'])\n",
    "plt.title('Model loss')\n",
    "plt.ylabel('Loss')\n",
    "plt.xlabel('Epoch')\n",
    "plt.legend(['Train', 'Validation'], loc='upper left')\n",
    "plt.show()"
   ]
  },
  {
   "cell_type": "markdown",
   "id": "fa67e1bc",
   "metadata": {},
   "source": [
    "**This time the model did not overfit, though the accuracies are not high**"
   ]
  },
  {
   "cell_type": "markdown",
   "id": "beddc133",
   "metadata": {},
   "source": [
    "**Evaluate the model on the test data**"
   ]
  },
  {
   "cell_type": "code",
   "execution_count": 47,
   "id": "58731b17",
   "metadata": {},
   "outputs": [
    {
     "name": "stdout",
     "output_type": "stream",
     "text": [
      "\u001b[1m6/6\u001b[0m \u001b[32m━━━━━━━━━━━━━━━━━━━━\u001b[0m\u001b[37m\u001b[0m \u001b[1m0s\u001b[0m 53ms/step - accuracy: 0.2131 - loss: 1.7182\n",
      "Test Loss: 1.7865828275680542\n",
      "Test Accuracy: 0.24712643027305603\n"
     ]
    }
   ],
   "source": [
    "# Evaluate the model on the test data\n",
    "test_loss, test_accuracy = model.evaluate([test_video, test_meteo], test_label)\n",
    "\n",
    "print(f\"Test Loss: {test_loss}\")\n",
    "print(f\"Test Accuracy: {test_accuracy}\")"
   ]
  },
  {
   "cell_type": "markdown",
   "id": "17fb8ed8",
   "metadata": {},
   "source": [
    "**Prediction on the test dataset**"
   ]
  },
  {
   "cell_type": "code",
   "execution_count": 48,
   "id": "95adc8ba",
   "metadata": {},
   "outputs": [
    {
     "name": "stdout",
     "output_type": "stream",
     "text": [
      "\u001b[1m6/6\u001b[0m \u001b[32m━━━━━━━━━━━━━━━━━━━━\u001b[0m\u001b[37m\u001b[0m \u001b[1m1s\u001b[0m 152ms/step\n",
      "              precision    recall  f1-score   support\n",
      "\n",
      "           0       0.57      0.14      0.23        90\n",
      "           1       0.41      0.25      0.31        60\n",
      "           2       0.18      0.56      0.27        16\n",
      "           3       0.09      0.75      0.17         8\n",
      "\n",
      "    accuracy                           0.25       174\n",
      "   macro avg       0.31      0.43      0.24       174\n",
      "weighted avg       0.45      0.25      0.26       174\n",
      "\n"
     ]
    }
   ],
   "source": [
    "# Predict the test dataset\n",
    "pred_label = model.predict([test_video, test_meteo])\n",
    "\n",
    "# Convert predictions from one-hot to labels\n",
    "pred_label_cat = np.argmax(pred_label, axis=1)\n",
    "true_label_cat = np.argmax(test_label, axis=1)\n",
    "\n",
    "print(classification_report(true_label_cat.flatten(), pred_label_cat.flatten()))"
   ]
  },
  {
   "cell_type": "markdown",
   "id": "0ef9d799",
   "metadata": {},
   "source": [
    "**This model has covers all four classes to predict so far!!**"
   ]
  },
  {
   "cell_type": "markdown",
   "id": "88c63d8e",
   "metadata": {},
   "source": [
    "**Confusion Matrix**"
   ]
  },
  {
   "cell_type": "code",
   "execution_count": 49,
   "id": "eee48fdd",
   "metadata": {},
   "outputs": [
    {
     "data": {
      "image/png": "[encoded data removed]",
      "text/plain": [
       "<Figure size 640x480 with 2 Axes>"
      ]
     },
     "metadata": {},
     "output_type": "display_data"
    }
   ],
   "source": [
    "conmat = confusion_matrix(true_label_cat.flatten(), pred_label_cat.flatten())\n",
    "sns.heatmap(conmat, annot=True, fmt='d', cmap='Blues', xticklabels=labels, yticklabels=labels)\n",
    "\n",
    "plt.title('Confusion Matrix')\n",
    "plt.xlabel('Predicted Label')\n",
    "plt.ylabel('True Label')\n",
    "plt.show()"
   ]
  },
  {
   "cell_type": "markdown",
   "id": "70f0815e",
   "metadata": {},
   "source": [
    "-----"
   ]
  },
  {
   "cell_type": "markdown",
   "id": "ac62c214",
   "metadata": {},
   "source": [
    "# Hybrid Model 2"
   ]
  },
  {
   "cell_type": "markdown",
   "id": "ebf15695",
   "metadata": {},
   "source": [
    "Model Architecture\n",
    "- One CNN layer\n",
    "- Two RNN LSTM layers, with verying units through out layers and activations as desired\n",
    "- BatchNormalization and no dropouts this time"
   ]
  },
  {
   "cell_type": "code",
   "execution_count": 50,
   "id": "eed0eafe",
   "metadata": {},
   "outputs": [],
   "source": [
    "# CNN Model\n",
    "cnn_input = Input(shape=(9, 64, 64, 1))\n",
    "cnn = Conv3D(filters=32, kernel_size=(3, 3, 3), padding='same')(cnn_input)\n",
    "cnn = BatchNormalization()(cnn)\n",
    "cnn = MaxPooling3D(pool_size=(2, 2, 2))(cnn)\n",
    "\n",
    "cnn = Flatten()(cnn)\n",
    "cnn_output = Dense(16, activation='relu')(cnn)\n",
    "\n",
    "# RNN Model\n",
    "rnn_input = Input(shape=(7, 7))\n",
    "rnn = LSTM(64, return_sequences=True)(rnn_input)\n",
    "rnn = BatchNormalization()(rnn)\n",
    "rnn = LSTM(32, return_sequences=False)(rnn)\n",
    "rnn = BatchNormalization()(rnn)\n",
    "rnn_output = Dense(24, activation='relu')(rnn)\n",
    "\n",
    "# Concatenation and final layers\n",
    "concatenated = Concatenate()([cnn_output, rnn_output])\n",
    "\n",
    "final_dense = Dense(32, activation='relu')(concatenated)\n",
    "final_output = Dense(4, activation='softmax')(final_dense)\n",
    "\n",
    "# Final model assembly\n",
    "model = Model(inputs=[cnn_input, rnn_input], outputs=final_output)\n",
    "\n",
    "# Compile the model\n",
    "model.compile(optimizer='adam', loss='categorical_crossentropy', metrics=['accuracy'])"
   ]
  },
  {
   "cell_type": "code",
   "execution_count": 51,
   "id": "9226a1e6",
   "metadata": {},
   "outputs": [
    {
     "data": {
      "text/html": [
       "<pre style=\"white-space:pre;overflow-x:auto;line-height:normal;font-family:Menlo,'DejaVu Sans Mono',consolas,'Courier New',monospace\"><span style=\"font-weight: bold\">Model: \"functional_5\"</span>\n",
       "</pre>\n"
      ],
      "text/plain": [
       "\u001b[1mModel: \"functional_5\"\u001b[0m\n"
      ]
     },
     "metadata": {},
     "output_type": "display_data"
    },
    {
     "data": {
      "text/html": [
       "<pre style=\"white-space:pre;overflow-x:auto;line-height:normal;font-family:Menlo,'DejaVu Sans Mono',consolas,'Courier New',monospace\">┏━━━━━━━━━━━━━━━━━━━━━━━━━━━━━━━┳━━━━━━━━━━━━━━━━━━━━━━━━━━━┳━━━━━━━━━━━━━━━━━┳━━━━━━━━━━━━━━━━━━━━━━━━━━━━┓\n",
       "┃<span style=\"font-weight: bold\"> Layer (type)                  </span>┃<span style=\"font-weight: bold\"> Output Shape              </span>┃<span style=\"font-weight: bold\">         Param # </span>┃<span style=\"font-weight: bold\"> Connected to               </span>┃\n",
       "┡━━━━━━━━━━━━━━━━━━━━━━━━━━━━━━━╇━━━━━━━━━━━━━━━━━━━━━━━━━━━╇━━━━━━━━━━━━━━━━━╇━━━━━━━━━━━━━━━━━━━━━━━━━━━━┩\n",
       "│ input_layer_4 (<span style=\"color: #0087ff; text-decoration-color: #0087ff\">InputLayer</span>)    │ (<span style=\"color: #00d7ff; text-decoration-color: #00d7ff\">None</span>, <span style=\"color: #00af00; text-decoration-color: #00af00\">9</span>, <span style=\"color: #00af00; text-decoration-color: #00af00\">64</span>, <span style=\"color: #00af00; text-decoration-color: #00af00\">64</span>, <span style=\"color: #00af00; text-decoration-color: #00af00\">1</span>)      │               <span style=\"color: #00af00; text-decoration-color: #00af00\">0</span> │ -                          │\n",
       "├───────────────────────────────┼───────────────────────────┼─────────────────┼────────────────────────────┤\n",
       "│ input_layer_5 (<span style=\"color: #0087ff; text-decoration-color: #0087ff\">InputLayer</span>)    │ (<span style=\"color: #00d7ff; text-decoration-color: #00d7ff\">None</span>, <span style=\"color: #00af00; text-decoration-color: #00af00\">7</span>, <span style=\"color: #00af00; text-decoration-color: #00af00\">7</span>)              │               <span style=\"color: #00af00; text-decoration-color: #00af00\">0</span> │ -                          │\n",
       "├───────────────────────────────┼───────────────────────────┼─────────────────┼────────────────────────────┤\n",
       "│ conv3d_2 (<span style=\"color: #0087ff; text-decoration-color: #0087ff\">Conv3D</span>)             │ (<span style=\"color: #00d7ff; text-decoration-color: #00d7ff\">None</span>, <span style=\"color: #00af00; text-decoration-color: #00af00\">9</span>, <span style=\"color: #00af00; text-decoration-color: #00af00\">64</span>, <span style=\"color: #00af00; text-decoration-color: #00af00\">64</span>, <span style=\"color: #00af00; text-decoration-color: #00af00\">32</span>)     │             <span style=\"color: #00af00; text-decoration-color: #00af00\">896</span> │ input_layer_4[<span style=\"color: #00af00; text-decoration-color: #00af00\">0</span>][<span style=\"color: #00af00; text-decoration-color: #00af00\">0</span>]        │\n",
       "├───────────────────────────────┼───────────────────────────┼─────────────────┼────────────────────────────┤\n",
       "│ lstm_6 (<span style=\"color: #0087ff; text-decoration-color: #0087ff\">LSTM</span>)                 │ (<span style=\"color: #00d7ff; text-decoration-color: #00d7ff\">None</span>, <span style=\"color: #00af00; text-decoration-color: #00af00\">7</span>, <span style=\"color: #00af00; text-decoration-color: #00af00\">64</span>)             │          <span style=\"color: #00af00; text-decoration-color: #00af00\">18,432</span> │ input_layer_5[<span style=\"color: #00af00; text-decoration-color: #00af00\">0</span>][<span style=\"color: #00af00; text-decoration-color: #00af00\">0</span>]        │\n",
       "├───────────────────────────────┼───────────────────────────┼─────────────────┼────────────────────────────┤\n",
       "│ batch_normalization_8         │ (<span style=\"color: #00d7ff; text-decoration-color: #00d7ff\">None</span>, <span style=\"color: #00af00; text-decoration-color: #00af00\">9</span>, <span style=\"color: #00af00; text-decoration-color: #00af00\">64</span>, <span style=\"color: #00af00; text-decoration-color: #00af00\">64</span>, <span style=\"color: #00af00; text-decoration-color: #00af00\">32</span>)     │             <span style=\"color: #00af00; text-decoration-color: #00af00\">128</span> │ conv3d_2[<span style=\"color: #00af00; text-decoration-color: #00af00\">0</span>][<span style=\"color: #00af00; text-decoration-color: #00af00\">0</span>]             │\n",
       "│ (<span style=\"color: #0087ff; text-decoration-color: #0087ff\">BatchNormalization</span>)          │                           │                 │                            │\n",
       "├───────────────────────────────┼───────────────────────────┼─────────────────┼────────────────────────────┤\n",
       "│ batch_normalization_9         │ (<span style=\"color: #00d7ff; text-decoration-color: #00d7ff\">None</span>, <span style=\"color: #00af00; text-decoration-color: #00af00\">7</span>, <span style=\"color: #00af00; text-decoration-color: #00af00\">64</span>)             │             <span style=\"color: #00af00; text-decoration-color: #00af00\">256</span> │ lstm_6[<span style=\"color: #00af00; text-decoration-color: #00af00\">0</span>][<span style=\"color: #00af00; text-decoration-color: #00af00\">0</span>]               │\n",
       "│ (<span style=\"color: #0087ff; text-decoration-color: #0087ff\">BatchNormalization</span>)          │                           │                 │                            │\n",
       "├───────────────────────────────┼───────────────────────────┼─────────────────┼────────────────────────────┤\n",
       "│ max_pooling3d_2               │ (<span style=\"color: #00d7ff; text-decoration-color: #00d7ff\">None</span>, <span style=\"color: #00af00; text-decoration-color: #00af00\">4</span>, <span style=\"color: #00af00; text-decoration-color: #00af00\">32</span>, <span style=\"color: #00af00; text-decoration-color: #00af00\">32</span>, <span style=\"color: #00af00; text-decoration-color: #00af00\">32</span>)     │               <span style=\"color: #00af00; text-decoration-color: #00af00\">0</span> │ batch_normalization_8[<span style=\"color: #00af00; text-decoration-color: #00af00\">0</span>][<span style=\"color: #00af00; text-decoration-color: #00af00\">…</span> │\n",
       "│ (<span style=\"color: #0087ff; text-decoration-color: #0087ff\">MaxPooling3D</span>)                │                           │                 │                            │\n",
       "├───────────────────────────────┼───────────────────────────┼─────────────────┼────────────────────────────┤\n",
       "│ lstm_7 (<span style=\"color: #0087ff; text-decoration-color: #0087ff\">LSTM</span>)                 │ (<span style=\"color: #00d7ff; text-decoration-color: #00d7ff\">None</span>, <span style=\"color: #00af00; text-decoration-color: #00af00\">32</span>)                │          <span style=\"color: #00af00; text-decoration-color: #00af00\">12,416</span> │ batch_normalization_9[<span style=\"color: #00af00; text-decoration-color: #00af00\">0</span>][<span style=\"color: #00af00; text-decoration-color: #00af00\">…</span> │\n",
       "├───────────────────────────────┼───────────────────────────┼─────────────────┼────────────────────────────┤\n",
       "│ flatten_2 (<span style=\"color: #0087ff; text-decoration-color: #0087ff\">Flatten</span>)           │ (<span style=\"color: #00d7ff; text-decoration-color: #00d7ff\">None</span>, <span style=\"color: #00af00; text-decoration-color: #00af00\">131072</span>)            │               <span style=\"color: #00af00; text-decoration-color: #00af00\">0</span> │ max_pooling3d_2[<span style=\"color: #00af00; text-decoration-color: #00af00\">0</span>][<span style=\"color: #00af00; text-decoration-color: #00af00\">0</span>]      │\n",
       "├───────────────────────────────┼───────────────────────────┼─────────────────┼────────────────────────────┤\n",
       "│ batch_normalization_10        │ (<span style=\"color: #00d7ff; text-decoration-color: #00d7ff\">None</span>, <span style=\"color: #00af00; text-decoration-color: #00af00\">32</span>)                │             <span style=\"color: #00af00; text-decoration-color: #00af00\">128</span> │ lstm_7[<span style=\"color: #00af00; text-decoration-color: #00af00\">0</span>][<span style=\"color: #00af00; text-decoration-color: #00af00\">0</span>]               │\n",
       "│ (<span style=\"color: #0087ff; text-decoration-color: #0087ff\">BatchNormalization</span>)          │                           │                 │                            │\n",
       "├───────────────────────────────┼───────────────────────────┼─────────────────┼────────────────────────────┤\n",
       "│ dense_8 (<span style=\"color: #0087ff; text-decoration-color: #0087ff\">Dense</span>)               │ (<span style=\"color: #00d7ff; text-decoration-color: #00d7ff\">None</span>, <span style=\"color: #00af00; text-decoration-color: #00af00\">32</span>)                │       <span style=\"color: #00af00; text-decoration-color: #00af00\">4,194,336</span> │ flatten_2[<span style=\"color: #00af00; text-decoration-color: #00af00\">0</span>][<span style=\"color: #00af00; text-decoration-color: #00af00\">0</span>]            │\n",
       "├───────────────────────────────┼───────────────────────────┼─────────────────┼────────────────────────────┤\n",
       "│ dense_9 (<span style=\"color: #0087ff; text-decoration-color: #0087ff\">Dense</span>)               │ (<span style=\"color: #00d7ff; text-decoration-color: #00d7ff\">None</span>, <span style=\"color: #00af00; text-decoration-color: #00af00\">24</span>)                │             <span style=\"color: #00af00; text-decoration-color: #00af00\">792</span> │ batch_normalization_10[<span style=\"color: #00af00; text-decoration-color: #00af00\">0</span>]… │\n",
       "├───────────────────────────────┼───────────────────────────┼─────────────────┼────────────────────────────┤\n",
       "│ concatenate_2 (<span style=\"color: #0087ff; text-decoration-color: #0087ff\">Concatenate</span>)   │ (<span style=\"color: #00d7ff; text-decoration-color: #00d7ff\">None</span>, <span style=\"color: #00af00; text-decoration-color: #00af00\">56</span>)                │               <span style=\"color: #00af00; text-decoration-color: #00af00\">0</span> │ dense_8[<span style=\"color: #00af00; text-decoration-color: #00af00\">0</span>][<span style=\"color: #00af00; text-decoration-color: #00af00\">0</span>],             │\n",
       "│                               │                           │                 │ dense_9[<span style=\"color: #00af00; text-decoration-color: #00af00\">0</span>][<span style=\"color: #00af00; text-decoration-color: #00af00\">0</span>]              │\n",
       "├───────────────────────────────┼───────────────────────────┼─────────────────┼────────────────────────────┤\n",
       "│ dense_10 (<span style=\"color: #0087ff; text-decoration-color: #0087ff\">Dense</span>)              │ (<span style=\"color: #00d7ff; text-decoration-color: #00d7ff\">None</span>, <span style=\"color: #00af00; text-decoration-color: #00af00\">32</span>)                │           <span style=\"color: #00af00; text-decoration-color: #00af00\">1,824</span> │ concatenate_2[<span style=\"color: #00af00; text-decoration-color: #00af00\">0</span>][<span style=\"color: #00af00; text-decoration-color: #00af00\">0</span>]        │\n",
       "├───────────────────────────────┼───────────────────────────┼─────────────────┼────────────────────────────┤\n",
       "│ dense_11 (<span style=\"color: #0087ff; text-decoration-color: #0087ff\">Dense</span>)              │ (<span style=\"color: #00d7ff; text-decoration-color: #00d7ff\">None</span>, <span style=\"color: #00af00; text-decoration-color: #00af00\">4</span>)                 │             <span style=\"color: #00af00; text-decoration-color: #00af00\">132</span> │ dense_10[<span style=\"color: #00af00; text-decoration-color: #00af00\">0</span>][<span style=\"color: #00af00; text-decoration-color: #00af00\">0</span>]             │\n",
       "└───────────────────────────────┴───────────────────────────┴─────────────────┴────────────────────────────┘\n",
       "</pre>\n"
      ],
      "text/plain": [
       "┏━━━━━━━━━━━━━━━━━━━━━━━━━━━━━━━┳━━━━━━━━━━━━━━━━━━━━━━━━━━━┳━━━━━━━━━━━━━━━━━┳━━━━━━━━━━━━━━━━━━━━━━━━━━━━┓\n",
       "┃\u001b[1m \u001b[0m\u001b[1mLayer (type)                 \u001b[0m\u001b[1m \u001b[0m┃\u001b[1m \u001b[0m\u001b[1mOutput Shape             \u001b[0m\u001b[1m \u001b[0m┃\u001b[1m \u001b[0m\u001b[1m        Param #\u001b[0m\u001b[1m \u001b[0m┃\u001b[1m \u001b[0m\u001b[1mConnected to              \u001b[0m\u001b[1m \u001b[0m┃\n",
       "┡━━━━━━━━━━━━━━━━━━━━━━━━━━━━━━━╇━━━━━━━━━━━━━━━━━━━━━━━━━━━╇━━━━━━━━━━━━━━━━━╇━━━━━━━━━━━━━━━━━━━━━━━━━━━━┩\n",
       "│ input_layer_4 (\u001b[38;5;33mInputLayer\u001b[0m)    │ (\u001b[38;5;45mNone\u001b[0m, \u001b[38;5;34m9\u001b[0m, \u001b[38;5;34m64\u001b[0m, \u001b[38;5;34m64\u001b[0m, \u001b[38;5;34m1\u001b[0m)      │               \u001b[38;5;34m0\u001b[0m │ -                          │\n",
       "├───────────────────────────────┼───────────────────────────┼─────────────────┼────────────────────────────┤\n",
       "│ input_layer_5 (\u001b[38;5;33mInputLayer\u001b[0m)    │ (\u001b[38;5;45mNone\u001b[0m, \u001b[38;5;34m7\u001b[0m, \u001b[38;5;34m7\u001b[0m)              │               \u001b[38;5;34m0\u001b[0m │ -                          │\n",
       "├───────────────────────────────┼───────────────────────────┼─────────────────┼────────────────────────────┤\n",
       "│ conv3d_2 (\u001b[38;5;33mConv3D\u001b[0m)             │ (\u001b[38;5;45mNone\u001b[0m, \u001b[38;5;34m9\u001b[0m, \u001b[38;5;34m64\u001b[0m, \u001b[38;5;34m64\u001b[0m, \u001b[38;5;34m32\u001b[0m)     │             \u001b[38;5;34m896\u001b[0m │ input_layer_4[\u001b[38;5;34m0\u001b[0m][\u001b[38;5;34m0\u001b[0m]        │\n",
       "├───────────────────────────────┼───────────────────────────┼─────────────────┼────────────────────────────┤\n",
       "│ lstm_6 (\u001b[38;5;33mLSTM\u001b[0m)                 │ (\u001b[38;5;45mNone\u001b[0m, \u001b[38;5;34m7\u001b[0m, \u001b[38;5;34m64\u001b[0m)             │          \u001b[38;5;34m18,432\u001b[0m │ input_layer_5[\u001b[38;5;34m0\u001b[0m][\u001b[38;5;34m0\u001b[0m]        │\n",
       "├───────────────────────────────┼───────────────────────────┼─────────────────┼────────────────────────────┤\n",
       "│ batch_normalization_8         │ (\u001b[38;5;45mNone\u001b[0m, \u001b[38;5;34m9\u001b[0m, \u001b[38;5;34m64\u001b[0m, \u001b[38;5;34m64\u001b[0m, \u001b[38;5;34m32\u001b[0m)     │             \u001b[38;5;34m128\u001b[0m │ conv3d_2[\u001b[38;5;34m0\u001b[0m][\u001b[38;5;34m0\u001b[0m]             │\n",
       "│ (\u001b[38;5;33mBatchNormalization\u001b[0m)          │                           │                 │                            │\n",
       "├───────────────────────────────┼───────────────────────────┼─────────────────┼────────────────────────────┤\n",
       "│ batch_normalization_9         │ (\u001b[38;5;45mNone\u001b[0m, \u001b[38;5;34m7\u001b[0m, \u001b[38;5;34m64\u001b[0m)             │             \u001b[38;5;34m256\u001b[0m │ lstm_6[\u001b[38;5;34m0\u001b[0m][\u001b[38;5;34m0\u001b[0m]               │\n",
       "│ (\u001b[38;5;33mBatchNormalization\u001b[0m)          │                           │                 │                            │\n",
       "├───────────────────────────────┼───────────────────────────┼─────────────────┼────────────────────────────┤\n",
       "│ max_pooling3d_2               │ (\u001b[38;5;45mNone\u001b[0m, \u001b[38;5;34m4\u001b[0m, \u001b[38;5;34m32\u001b[0m, \u001b[38;5;34m32\u001b[0m, \u001b[38;5;34m32\u001b[0m)     │               \u001b[38;5;34m0\u001b[0m │ batch_normalization_8[\u001b[38;5;34m0\u001b[0m][\u001b[38;5;34m…\u001b[0m │\n",
       "│ (\u001b[38;5;33mMaxPooling3D\u001b[0m)                │                           │                 │                            │\n",
       "├───────────────────────────────┼───────────────────────────┼─────────────────┼────────────────────────────┤\n",
       "│ lstm_7 (\u001b[38;5;33mLSTM\u001b[0m)                 │ (\u001b[38;5;45mNone\u001b[0m, \u001b[38;5;34m32\u001b[0m)                │          \u001b[38;5;34m12,416\u001b[0m │ batch_normalization_9[\u001b[38;5;34m0\u001b[0m][\u001b[38;5;34m…\u001b[0m │\n",
       "├───────────────────────────────┼───────────────────────────┼─────────────────┼────────────────────────────┤\n",
       "│ flatten_2 (\u001b[38;5;33mFlatten\u001b[0m)           │ (\u001b[38;5;45mNone\u001b[0m, \u001b[38;5;34m131072\u001b[0m)            │               \u001b[38;5;34m0\u001b[0m │ max_pooling3d_2[\u001b[38;5;34m0\u001b[0m][\u001b[38;5;34m0\u001b[0m]      │\n",
       "├───────────────────────────────┼───────────────────────────┼─────────────────┼────────────────────────────┤\n",
       "│ batch_normalization_10        │ (\u001b[38;5;45mNone\u001b[0m, \u001b[38;5;34m32\u001b[0m)                │             \u001b[38;5;34m128\u001b[0m │ lstm_7[\u001b[38;5;34m0\u001b[0m][\u001b[38;5;34m0\u001b[0m]               │\n",
       "│ (\u001b[38;5;33mBatchNormalization\u001b[0m)          │                           │                 │                            │\n",
       "├───────────────────────────────┼───────────────────────────┼─────────────────┼────────────────────────────┤\n",
       "│ dense_8 (\u001b[38;5;33mDense\u001b[0m)               │ (\u001b[38;5;45mNone\u001b[0m, \u001b[38;5;34m32\u001b[0m)                │       \u001b[38;5;34m4,194,336\u001b[0m │ flatten_2[\u001b[38;5;34m0\u001b[0m][\u001b[38;5;34m0\u001b[0m]            │\n",
       "├───────────────────────────────┼───────────────────────────┼─────────────────┼────────────────────────────┤\n",
       "│ dense_9 (\u001b[38;5;33mDense\u001b[0m)               │ (\u001b[38;5;45mNone\u001b[0m, \u001b[38;5;34m24\u001b[0m)                │             \u001b[38;5;34m792\u001b[0m │ batch_normalization_10[\u001b[38;5;34m0\u001b[0m]… │\n",
       "├───────────────────────────────┼───────────────────────────┼─────────────────┼────────────────────────────┤\n",
       "│ concatenate_2 (\u001b[38;5;33mConcatenate\u001b[0m)   │ (\u001b[38;5;45mNone\u001b[0m, \u001b[38;5;34m56\u001b[0m)                │               \u001b[38;5;34m0\u001b[0m │ dense_8[\u001b[38;5;34m0\u001b[0m][\u001b[38;5;34m0\u001b[0m],             │\n",
       "│                               │                           │                 │ dense_9[\u001b[38;5;34m0\u001b[0m][\u001b[38;5;34m0\u001b[0m]              │\n",
       "├───────────────────────────────┼───────────────────────────┼─────────────────┼────────────────────────────┤\n",
       "│ dense_10 (\u001b[38;5;33mDense\u001b[0m)              │ (\u001b[38;5;45mNone\u001b[0m, \u001b[38;5;34m32\u001b[0m)                │           \u001b[38;5;34m1,824\u001b[0m │ concatenate_2[\u001b[38;5;34m0\u001b[0m][\u001b[38;5;34m0\u001b[0m]        │\n",
       "├───────────────────────────────┼───────────────────────────┼─────────────────┼────────────────────────────┤\n",
       "│ dense_11 (\u001b[38;5;33mDense\u001b[0m)              │ (\u001b[38;5;45mNone\u001b[0m, \u001b[38;5;34m4\u001b[0m)                 │             \u001b[38;5;34m132\u001b[0m │ dense_10[\u001b[38;5;34m0\u001b[0m][\u001b[38;5;34m0\u001b[0m]             │\n",
       "└───────────────────────────────┴───────────────────────────┴─────────────────┴────────────────────────────┘\n"
      ]
     },
     "metadata": {},
     "output_type": "display_data"
    },
    {
     "data": {
      "text/html": [
       "<pre style=\"white-space:pre;overflow-x:auto;line-height:normal;font-family:Menlo,'DejaVu Sans Mono',consolas,'Courier New',monospace\"><span style=\"font-weight: bold\"> Total params: </span><span style=\"color: #00af00; text-decoration-color: #00af00\">4,229,340</span> (16.13 MB)\n",
       "</pre>\n"
      ],
      "text/plain": [
       "\u001b[1m Total params: \u001b[0m\u001b[38;5;34m4,229,340\u001b[0m (16.13 MB)\n"
      ]
     },
     "metadata": {},
     "output_type": "display_data"
    },
    {
     "data": {
      "text/html": [
       "<pre style=\"white-space:pre;overflow-x:auto;line-height:normal;font-family:Menlo,'DejaVu Sans Mono',consolas,'Courier New',monospace\"><span style=\"font-weight: bold\"> Trainable params: </span><span style=\"color: #00af00; text-decoration-color: #00af00\">4,229,084</span> (16.13 MB)\n",
       "</pre>\n"
      ],
      "text/plain": [
       "\u001b[1m Trainable params: \u001b[0m\u001b[38;5;34m4,229,084\u001b[0m (16.13 MB)\n"
      ]
     },
     "metadata": {},
     "output_type": "display_data"
    },
    {
     "data": {
      "text/html": [
       "<pre style=\"white-space:pre;overflow-x:auto;line-height:normal;font-family:Menlo,'DejaVu Sans Mono',consolas,'Courier New',monospace\"><span style=\"font-weight: bold\"> Non-trainable params: </span><span style=\"color: #00af00; text-decoration-color: #00af00\">256</span> (1.00 KB)\n",
       "</pre>\n"
      ],
      "text/plain": [
       "\u001b[1m Non-trainable params: \u001b[0m\u001b[38;5;34m256\u001b[0m (1.00 KB)\n"
      ]
     },
     "metadata": {},
     "output_type": "display_data"
    }
   ],
   "source": [
    "model.summary()"
   ]
  },
  {
   "cell_type": "markdown",
   "id": "fa6f1074",
   "metadata": {},
   "source": [
    "**Model Fitting**"
   ]
  },
  {
   "cell_type": "code",
   "execution_count": 52,
   "id": "b49330cf",
   "metadata": {
    "scrolled": false
   },
   "outputs": [
    {
     "name": "stdout",
     "output_type": "stream",
     "text": [
      "Epoch 1/50\n",
      "\u001b[1m35/35\u001b[0m \u001b[32m━━━━━━━━━━━━━━━━━━━━\u001b[0m\u001b[37m\u001b[0m \u001b[1m20s\u001b[0m 394ms/step - accuracy: 0.2174 - loss: 9.8930 - val_accuracy: 0.1147 - val_loss: 1.4646\n",
      "Epoch 2/50\n",
      "\u001b[1m35/35\u001b[0m \u001b[32m━━━━━━━━━━━━━━━━━━━━\u001b[0m\u001b[37m\u001b[0m \u001b[1m13s\u001b[0m 364ms/step - accuracy: 0.2902 - loss: 2.4549 - val_accuracy: 0.2437 - val_loss: 1.3754\n",
      "Epoch 3/50\n",
      "\u001b[1m35/35\u001b[0m \u001b[32m━━━━━━━━━━━━━━━━━━━━\u001b[0m\u001b[37m\u001b[0m \u001b[1m13s\u001b[0m 358ms/step - accuracy: 0.2568 - loss: 1.7921 - val_accuracy: 0.2186 - val_loss: 1.3527\n",
      "Epoch 4/50\n",
      "\u001b[1m35/35\u001b[0m \u001b[32m━━━━━━━━━━━━━━━━━━━━\u001b[0m\u001b[37m\u001b[0m \u001b[1m13s\u001b[0m 361ms/step - accuracy: 0.3584 - loss: 1.4380 - val_accuracy: 0.1900 - val_loss: 1.3837\n",
      "Epoch 5/50\n",
      "\u001b[1m35/35\u001b[0m \u001b[32m━━━━━━━━━━━━━━━━━━━━\u001b[0m\u001b[37m\u001b[0m \u001b[1m14s\u001b[0m 393ms/step - accuracy: 0.3805 - loss: 1.2832 - val_accuracy: 0.0789 - val_loss: 1.3930\n",
      "Epoch 6/50\n",
      "\u001b[1m35/35\u001b[0m \u001b[32m━━━━━━━━━━━━━━━━━━━━\u001b[0m\u001b[37m\u001b[0m \u001b[1m13s\u001b[0m 360ms/step - accuracy: 0.3857 - loss: 1.2479 - val_accuracy: 0.2043 - val_loss: 1.3937\n",
      "Epoch 7/50\n",
      "\u001b[1m35/35\u001b[0m \u001b[32m━━━━━━━━━━━━━━━━━━━━\u001b[0m\u001b[37m\u001b[0m \u001b[1m14s\u001b[0m 397ms/step - accuracy: 0.3962 - loss: 1.3404 - val_accuracy: 0.2437 - val_loss: 1.3955\n",
      "Epoch 8/50\n",
      "\u001b[1m35/35\u001b[0m \u001b[32m━━━━━━━━━━━━━━━━━━━━\u001b[0m\u001b[37m\u001b[0m \u001b[1m13s\u001b[0m 363ms/step - accuracy: 0.3740 - loss: 1.3073 - val_accuracy: 0.2222 - val_loss: 1.3907\n",
      "Epoch 9/50\n",
      "\u001b[1m35/35\u001b[0m \u001b[32m━━━━━━━━━━━━━━━━━━━━\u001b[0m\u001b[37m\u001b[0m \u001b[1m12s\u001b[0m 350ms/step - accuracy: 0.4025 - loss: 1.2457 - val_accuracy: 0.4409 - val_loss: 1.3273\n",
      "Epoch 10/50\n",
      "\u001b[1m35/35\u001b[0m \u001b[32m━━━━━━━━━━━━━━━━━━━━\u001b[0m\u001b[37m\u001b[0m \u001b[1m12s\u001b[0m 352ms/step - accuracy: 0.4108 - loss: 1.2294 - val_accuracy: 0.0645 - val_loss: 1.4569\n",
      "Epoch 11/50\n",
      "\u001b[1m35/35\u001b[0m \u001b[32m━━━━━━━━━━━━━━━━━━━━\u001b[0m\u001b[37m\u001b[0m \u001b[1m12s\u001b[0m 352ms/step - accuracy: 0.4118 - loss: 1.3119 - val_accuracy: 0.4695 - val_loss: 1.2641\n",
      "Epoch 12/50\n",
      "\u001b[1m35/35\u001b[0m \u001b[32m━━━━━━━━━━━━━━━━━━━━\u001b[0m\u001b[37m\u001b[0m \u001b[1m15s\u001b[0m 426ms/step - accuracy: 0.4266 - loss: 1.2162 - val_accuracy: 0.3907 - val_loss: 1.3021\n",
      "Epoch 13/50\n",
      "\u001b[1m35/35\u001b[0m \u001b[32m━━━━━━━━━━━━━━━━━━━━\u001b[0m\u001b[37m\u001b[0m \u001b[1m13s\u001b[0m 363ms/step - accuracy: 0.4260 - loss: 1.1529 - val_accuracy: 0.3584 - val_loss: 1.3238\n",
      "Epoch 14/50\n",
      "\u001b[1m35/35\u001b[0m \u001b[32m━━━━━━━━━━━━━━━━━━━━\u001b[0m\u001b[37m\u001b[0m \u001b[1m14s\u001b[0m 401ms/step - accuracy: 0.4264 - loss: 1.1593 - val_accuracy: 0.3943 - val_loss: 1.2439\n",
      "Epoch 15/50\n",
      "\u001b[1m35/35\u001b[0m \u001b[32m━━━━━━━━━━━━━━━━━━━━\u001b[0m\u001b[37m\u001b[0m \u001b[1m14s\u001b[0m 400ms/step - accuracy: 0.4002 - loss: 1.1685 - val_accuracy: 0.3835 - val_loss: 1.2796\n",
      "Epoch 16/50\n",
      "\u001b[1m35/35\u001b[0m \u001b[32m━━━━━━━━━━━━━━━━━━━━\u001b[0m\u001b[37m\u001b[0m \u001b[1m14s\u001b[0m 415ms/step - accuracy: 0.4463 - loss: 1.1636 - val_accuracy: 0.5054 - val_loss: 1.1924\n",
      "Epoch 17/50\n",
      "\u001b[1m35/35\u001b[0m \u001b[32m━━━━━━━━━━━━━━━━━━━━\u001b[0m\u001b[37m\u001b[0m \u001b[1m12s\u001b[0m 353ms/step - accuracy: 0.4160 - loss: 1.1250 - val_accuracy: 0.4373 - val_loss: 1.2502\n",
      "Epoch 18/50\n",
      "\u001b[1m35/35\u001b[0m \u001b[32m━━━━━━━━━━━━━━━━━━━━\u001b[0m\u001b[37m\u001b[0m \u001b[1m12s\u001b[0m 357ms/step - accuracy: 0.4618 - loss: 1.1124 - val_accuracy: 0.4731 - val_loss: 1.1532\n",
      "Epoch 19/50\n",
      "\u001b[1m35/35\u001b[0m \u001b[32m━━━━━━━━━━━━━━━━━━━━\u001b[0m\u001b[37m\u001b[0m \u001b[1m12s\u001b[0m 352ms/step - accuracy: 0.4508 - loss: 1.0517 - val_accuracy: 0.3871 - val_loss: 1.2647\n",
      "Epoch 20/50\n",
      "\u001b[1m35/35\u001b[0m \u001b[32m━━━━━━━━━━━━━━━━━━━━\u001b[0m\u001b[37m\u001b[0m \u001b[1m13s\u001b[0m 370ms/step - accuracy: 0.4284 - loss: 1.0385 - val_accuracy: 0.3477 - val_loss: 1.2462\n",
      "Epoch 21/50\n",
      "\u001b[1m35/35\u001b[0m \u001b[32m━━━━━━━━━━━━━━━━━━━━\u001b[0m\u001b[37m\u001b[0m \u001b[1m13s\u001b[0m 367ms/step - accuracy: 0.4459 - loss: 1.0715 - val_accuracy: 0.4014 - val_loss: 1.3492\n",
      "Epoch 22/50\n",
      "\u001b[1m35/35\u001b[0m \u001b[32m━━━━━━━━━━━━━━━━━━━━\u001b[0m\u001b[37m\u001b[0m \u001b[1m13s\u001b[0m 366ms/step - accuracy: 0.4828 - loss: 1.0441 - val_accuracy: 0.4229 - val_loss: 1.2325\n",
      "Epoch 23/50\n",
      "\u001b[1m35/35\u001b[0m \u001b[32m━━━━━━━━━━━━━━━━━━━━\u001b[0m\u001b[37m\u001b[0m \u001b[1m14s\u001b[0m 384ms/step - accuracy: 0.4672 - loss: 0.9728 - val_accuracy: 0.3548 - val_loss: 1.3215\n",
      "Epoch 24/50\n",
      "\u001b[1m35/35\u001b[0m \u001b[32m━━━━━━━━━━━━━━━━━━━━\u001b[0m\u001b[37m\u001b[0m \u001b[1m14s\u001b[0m 390ms/step - accuracy: 0.4847 - loss: 0.9794 - val_accuracy: 0.5161 - val_loss: 1.1677\n",
      "Epoch 25/50\n",
      "\u001b[1m35/35\u001b[0m \u001b[32m━━━━━━━━━━━━━━━━━━━━\u001b[0m\u001b[37m\u001b[0m \u001b[1m12s\u001b[0m 352ms/step - accuracy: 0.4432 - loss: 0.9984 - val_accuracy: 0.4301 - val_loss: 1.2641\n",
      "Epoch 26/50\n",
      "\u001b[1m35/35\u001b[0m \u001b[32m━━━━━━━━━━━━━━━━━━━━\u001b[0m\u001b[37m\u001b[0m \u001b[1m13s\u001b[0m 358ms/step - accuracy: 0.4936 - loss: 0.9745 - val_accuracy: 0.4301 - val_loss: 1.2090\n",
      "Epoch 27/50\n",
      "\u001b[1m35/35\u001b[0m \u001b[32m━━━━━━━━━━━━━━━━━━━━\u001b[0m\u001b[37m\u001b[0m \u001b[1m12s\u001b[0m 351ms/step - accuracy: 0.4989 - loss: 0.9797 - val_accuracy: 0.4767 - val_loss: 1.1766\n",
      "Epoch 28/50\n",
      "\u001b[1m35/35\u001b[0m \u001b[32m━━━━━━━━━━━━━━━━━━━━\u001b[0m\u001b[37m\u001b[0m \u001b[1m12s\u001b[0m 353ms/step - accuracy: 0.5007 - loss: 0.9390 - val_accuracy: 0.4516 - val_loss: 1.2732\n",
      "Epoch 29/50\n",
      "\u001b[1m35/35\u001b[0m \u001b[32m━━━━━━━━━━━━━━━━━━━━\u001b[0m\u001b[37m\u001b[0m \u001b[1m13s\u001b[0m 381ms/step - accuracy: 0.5260 - loss: 0.8957 - val_accuracy: 0.3728 - val_loss: 1.3635\n",
      "Epoch 30/50\n",
      "\u001b[1m35/35\u001b[0m \u001b[32m━━━━━━━━━━━━━━━━━━━━\u001b[0m\u001b[37m\u001b[0m \u001b[1m12s\u001b[0m 354ms/step - accuracy: 0.5217 - loss: 0.9198 - val_accuracy: 0.4373 - val_loss: 1.3333\n",
      "Epoch 31/50\n",
      "\u001b[1m35/35\u001b[0m \u001b[32m━━━━━━━━━━━━━━━━━━━━\u001b[0m\u001b[37m\u001b[0m \u001b[1m13s\u001b[0m 365ms/step - accuracy: 0.5252 - loss: 0.9423 - val_accuracy: 0.4409 - val_loss: 1.2109\n",
      "Epoch 32/50\n",
      "\u001b[1m35/35\u001b[0m \u001b[32m━━━━━━━━━━━━━━━━━━━━\u001b[0m\u001b[37m\u001b[0m \u001b[1m12s\u001b[0m 351ms/step - accuracy: 0.5469 - loss: 0.8590 - val_accuracy: 0.4301 - val_loss: 1.2931\n",
      "Epoch 33/50\n",
      "\u001b[1m35/35\u001b[0m \u001b[32m━━━━━━━━━━━━━━━━━━━━\u001b[0m\u001b[37m\u001b[0m \u001b[1m14s\u001b[0m 390ms/step - accuracy: 0.5717 - loss: 0.8316 - val_accuracy: 0.3548 - val_loss: 1.4769\n",
      "Epoch 34/50\n",
      "\u001b[1m35/35\u001b[0m \u001b[32m━━━━━━━━━━━━━━━━━━━━\u001b[0m\u001b[37m\u001b[0m \u001b[1m12s\u001b[0m 352ms/step - accuracy: 0.5392 - loss: 0.8664 - val_accuracy: 0.3835 - val_loss: 1.5583\n",
      "Epoch 35/50\n",
      "\u001b[1m35/35\u001b[0m \u001b[32m━━━━━━━━━━━━━━━━━━━━\u001b[0m\u001b[37m\u001b[0m \u001b[1m13s\u001b[0m 361ms/step - accuracy: 0.5259 - loss: 0.8497 - val_accuracy: 0.4122 - val_loss: 1.2893\n",
      "Epoch 36/50\n",
      "\u001b[1m35/35\u001b[0m \u001b[32m━━━━━━━━━━━━━━━━━━━━\u001b[0m\u001b[37m\u001b[0m \u001b[1m13s\u001b[0m 358ms/step - accuracy: 0.5375 - loss: 0.8340 - val_accuracy: 0.3799 - val_loss: 1.4721\n",
      "Epoch 37/50\n",
      "\u001b[1m35/35\u001b[0m \u001b[32m━━━━━━━━━━━━━━━━━━━━\u001b[0m\u001b[37m\u001b[0m \u001b[1m12s\u001b[0m 353ms/step - accuracy: 0.5856 - loss: 0.8149 - val_accuracy: 0.4194 - val_loss: 1.3032\n",
      "Epoch 38/50\n",
      "\u001b[1m35/35\u001b[0m \u001b[32m━━━━━━━━━━━━━━━━━━━━\u001b[0m\u001b[37m\u001b[0m \u001b[1m13s\u001b[0m 360ms/step - accuracy: 0.5644 - loss: 0.8057 - val_accuracy: 0.4337 - val_loss: 1.2976\n",
      "Epoch 39/50\n",
      "\u001b[1m35/35\u001b[0m \u001b[32m━━━━━━━━━━━━━━━━━━━━\u001b[0m\u001b[37m\u001b[0m \u001b[1m13s\u001b[0m 364ms/step - accuracy: 0.5687 - loss: 0.7804 - val_accuracy: 0.3763 - val_loss: 1.5602\n",
      "Epoch 40/50\n",
      "\u001b[1m35/35\u001b[0m \u001b[32m━━━━━━━━━━━━━━━━━━━━\u001b[0m\u001b[37m\u001b[0m \u001b[1m12s\u001b[0m 355ms/step - accuracy: 0.5403 - loss: 0.8126 - val_accuracy: 0.3907 - val_loss: 1.3519\n",
      "Epoch 41/50\n",
      "\u001b[1m35/35\u001b[0m \u001b[32m━━━━━━━━━━━━━━━━━━━━\u001b[0m\u001b[37m\u001b[0m \u001b[1m13s\u001b[0m 358ms/step - accuracy: 0.5557 - loss: 0.7608 - val_accuracy: 0.3728 - val_loss: 1.3644\n",
      "Epoch 42/50\n",
      "\u001b[1m35/35\u001b[0m \u001b[32m━━━━━━━━━━━━━━━━━━━━\u001b[0m\u001b[37m\u001b[0m \u001b[1m13s\u001b[0m 358ms/step - accuracy: 0.5974 - loss: 0.7211 - val_accuracy: 0.4731 - val_loss: 1.2499\n",
      "Epoch 43/50\n",
      "\u001b[1m35/35\u001b[0m \u001b[32m━━━━━━━━━━━━━━━━━━━━\u001b[0m\u001b[37m\u001b[0m \u001b[1m12s\u001b[0m 354ms/step - accuracy: 0.5931 - loss: 0.7071 - val_accuracy: 0.3943 - val_loss: 1.3049\n",
      "Epoch 44/50\n",
      "\u001b[1m35/35\u001b[0m \u001b[32m━━━━━━━━━━━━━━━━━━━━\u001b[0m\u001b[37m\u001b[0m \u001b[1m13s\u001b[0m 367ms/step - accuracy: 0.5932 - loss: 0.7642 - val_accuracy: 0.3190 - val_loss: 1.4768\n",
      "Epoch 45/50\n",
      "\u001b[1m35/35\u001b[0m \u001b[32m━━━━━━━━━━━━━━━━━━━━\u001b[0m\u001b[37m\u001b[0m \u001b[1m13s\u001b[0m 357ms/step - accuracy: 0.6104 - loss: 0.6969 - val_accuracy: 0.4588 - val_loss: 1.2717\n",
      "Epoch 46/50\n",
      "\u001b[1m35/35\u001b[0m \u001b[32m━━━━━━━━━━━━━━━━━━━━\u001b[0m\u001b[37m\u001b[0m \u001b[1m13s\u001b[0m 358ms/step - accuracy: 0.5906 - loss: 0.7225 - val_accuracy: 0.4194 - val_loss: 1.5089\n",
      "Epoch 47/50\n",
      "\u001b[1m35/35\u001b[0m \u001b[32m━━━━━━━━━━━━━━━━━━━━\u001b[0m\u001b[37m\u001b[0m \u001b[1m13s\u001b[0m 365ms/step - accuracy: 0.5908 - loss: 0.7003 - val_accuracy: 0.3978 - val_loss: 1.3819\n",
      "Epoch 48/50\n",
      "\u001b[1m35/35\u001b[0m \u001b[32m━━━━━━━━━━━━━━━━━━━━\u001b[0m\u001b[37m\u001b[0m \u001b[1m13s\u001b[0m 365ms/step - accuracy: 0.6023 - loss: 0.6522 - val_accuracy: 0.3978 - val_loss: 1.3777\n",
      "Epoch 49/50\n",
      "\u001b[1m35/35\u001b[0m \u001b[32m━━━━━━━━━━━━━━━━━━━━\u001b[0m\u001b[37m\u001b[0m \u001b[1m12s\u001b[0m 354ms/step - accuracy: 0.6175 - loss: 0.6593 - val_accuracy: 0.4301 - val_loss: 1.3175\n",
      "Epoch 50/50\n",
      "\u001b[1m35/35\u001b[0m \u001b[32m━━━━━━━━━━━━━━━━━━━━\u001b[0m\u001b[37m\u001b[0m \u001b[1m14s\u001b[0m 390ms/step - accuracy: 0.6009 - loss: 0.6832 - val_accuracy: 0.3369 - val_loss: 1.5665\n"
     ]
    }
   ],
   "source": [
    "history = model.fit(\n",
    "    [train_video, train_meteo],\n",
    "    train_label,                \n",
    "    epochs=50,                 \n",
    "    batch_size=32,               \n",
    "    class_weight=class_weight_dict,\n",
    "    validation_split=0.2\n",
    ")"
   ]
  },
  {
   "cell_type": "markdown",
   "id": "8cfbee44",
   "metadata": {},
   "source": [
    "**Plots for training & validation accuracy & loss values**"
   ]
  },
  {
   "cell_type": "code",
   "execution_count": 53,
   "id": "918df92e",
   "metadata": {},
   "outputs": [
    {
     "data": {
      "image/png": "[encoded data removed]",
      "text/plain": [
       "<Figure size 640x480 with 1 Axes>"
      ]
     },
     "metadata": {},
     "output_type": "display_data"
    },
    {
     "data": {
      "image/png": "[encoded data removed]",
      "text/plain": [
       "<Figure size 640x480 with 1 Axes>"
      ]
     },
     "metadata": {},
     "output_type": "display_data"
    }
   ],
   "source": [
    "# Plot training & validation accuracy values\n",
    "plt.plot(history.history['accuracy'])\n",
    "plt.plot(history.history['val_accuracy'])\n",
    "plt.title('Model accuracy')\n",
    "plt.ylabel('Accuracy')\n",
    "plt.xlabel('Epoch')\n",
    "plt.legend(['Train', 'Validation'], loc='upper left')\n",
    "plt.show()\n",
    "\n",
    "# Plot training & validation loss values\n",
    "plt.plot(history.history['loss'])\n",
    "plt.plot(history.history['val_loss'])\n",
    "plt.title('Model loss')\n",
    "plt.ylabel('Loss')\n",
    "plt.xlabel('Epoch')\n",
    "plt.legend(['Train', 'Validation'], loc='upper left')\n",
    "plt.show()"
   ]
  },
  {
   "cell_type": "markdown",
   "id": "c47f213c",
   "metadata": {},
   "source": [
    "**Evaluate the model on the test data**"
   ]
  },
  {
   "cell_type": "code",
   "execution_count": 54,
   "id": "600d8b11",
   "metadata": {},
   "outputs": [
    {
     "name": "stdout",
     "output_type": "stream",
     "text": [
      "\u001b[1m6/6\u001b[0m \u001b[32m━━━━━━━━━━━━━━━━━━━━\u001b[0m\u001b[37m\u001b[0m \u001b[1m0s\u001b[0m 56ms/step - accuracy: 0.2451 - loss: 2.0033\n",
      "Test Loss: 1.835081934928894\n",
      "Test Accuracy: 0.2931034564971924\n"
     ]
    }
   ],
   "source": [
    "# Evaluate the model on the test data\n",
    "test_loss, test_accuracy = model.evaluate([test_video, test_meteo], test_label)\n",
    "\n",
    "print(f\"Test Loss: {test_loss}\")\n",
    "print(f\"Test Accuracy: {test_accuracy}\")"
   ]
  },
  {
   "cell_type": "markdown",
   "id": "3723a21b",
   "metadata": {},
   "source": [
    "**Prediction on the test dataset**"
   ]
  },
  {
   "cell_type": "code",
   "execution_count": 55,
   "id": "390199f1",
   "metadata": {},
   "outputs": [
    {
     "name": "stdout",
     "output_type": "stream",
     "text": [
      "WARNING:tensorflow:5 out of the last 13 calls to <function TensorFlowTrainer.make_predict_function.<locals>.one_step_on_data_distributed at 0x0000029FB96F16C0> triggered tf.function retracing. Tracing is expensive and the excessive number of tracings could be due to (1) creating @tf.function repeatedly in a loop, (2) passing tensors with different shapes, (3) passing Python objects instead of tensors. For (1), please define your @tf.function outside of the loop. For (2), @tf.function has reduce_retracing=True option that can avoid unnecessary retracing. For (3), please refer to https://www.tensorflow.org/guide/function#controlling_retracing and https://www.tensorflow.org/api_docs/python/tf/function for  more details.\n",
      "\u001b[1m6/6\u001b[0m \u001b[32m━━━━━━━━━━━━━━━━━━━━\u001b[0m\u001b[37m\u001b[0m \u001b[1m1s\u001b[0m 157ms/step\n",
      "              precision    recall  f1-score   support\n",
      "\n",
      "           0       0.51      0.34      0.41        90\n",
      "           1       0.29      0.20      0.24        60\n",
      "           2       0.12      0.44      0.19        16\n",
      "           3       0.08      0.12      0.10         8\n",
      "\n",
      "    accuracy                           0.29       174\n",
      "   macro avg       0.25      0.28      0.23       174\n",
      "weighted avg       0.38      0.29      0.32       174\n",
      "\n"
     ]
    }
   ],
   "source": [
    "# Predict the test dataset\n",
    "pred_label = model.predict([test_video, test_meteo])\n",
    "\n",
    "# Convert predictions from one-hot to labels\n",
    "pred_label_cat = np.argmax(pred_label, axis=1)\n",
    "true_label_cat = np.argmax(test_label, axis=1)\n",
    "\n",
    "print(classification_report(true_label_cat.flatten(), pred_label_cat.flatten()))"
   ]
  },
  {
   "cell_type": "markdown",
   "id": "6da31925",
   "metadata": {},
   "source": [
    "**This Model has also performed better to predict between four classes but not good with accuracies, since the data is less and even if I train for more epochs its overfitting**"
   ]
  },
  {
   "cell_type": "markdown",
   "id": "892d4d92",
   "metadata": {},
   "source": [
    "**Confusion Matrix**"
   ]
  },
  {
   "cell_type": "code",
   "execution_count": 56,
   "id": "e9f65102",
   "metadata": {
    "scrolled": false
   },
   "outputs": [
    {
     "data": {
      "image/png": "[encoded data removed]",
      "text/plain": [
       "<Figure size 640x480 with 2 Axes>"
      ]
     },
     "metadata": {},
     "output_type": "display_data"
    }
   ],
   "source": [
    "conmat = confusion_matrix(true_label_cat.flatten(), pred_label_cat.flatten())\n",
    "sns.heatmap(conmat, annot=True, fmt='d', cmap='Blues', xticklabels=labels, yticklabels=labels)\n",
    "\n",
    "plt.title('Confusion Matrix')\n",
    "plt.xlabel('Predicted Label')\n",
    "plt.ylabel('True Label')\n",
    "plt.show()"
   ]
  },
  {
   "cell_type": "markdown",
   "id": "dc39cc60",
   "metadata": {},
   "source": [
    "-----"
   ]
  },
  {
   "cell_type": "markdown",
   "id": "383c943b",
   "metadata": {},
   "source": [
    "## Conclusion:\n",
    "\n",
    "**The hybrid Model 2, which combines a single CNN layer with three LSTM layers, effectively predicts two days in advance across all four classes. However, the accuracies are somewhat limited due to the reduced dataset size following daily aggregation.**"
   ]
  }
 ],
 "metadata": {
  "kernelspec": {
   "display_name": "Python 3 (ipykernel)",
   "language": "python",
   "name": "python3"
  },
  "language_info": {
   "codemirror_mode": {
    "name": "ipython",
    "version": 3
   },
   "file_extension": ".py",
   "mimetype": "text/x-python",
   "name": "python",
   "nbconvert_exporter": "python",
   "pygments_lexer": "ipython3",
   "version": "3.11.5"
  }
 },
 "nbformat": 4,
 "nbformat_minor": 5
}
